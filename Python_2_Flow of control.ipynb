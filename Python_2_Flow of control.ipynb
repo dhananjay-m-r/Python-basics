{
  "nbformat": 4,
  "nbformat_minor": 0,
  "metadata": {
    "colab": {
      "provenance": [],
      "toc_visible": true,
      "authorship_tag": "ABX9TyNzPDqVI4G64fz9Mj/H+8Bw",
      "include_colab_link": true
    },
    "kernelspec": {
      "name": "python3",
      "display_name": "Python 3"
    },
    "language_info": {
      "name": "python"
    },
    "accelerator": "TPU",
    "gpuClass": "standard"
  },
  "cells": [
    {
      "cell_type": "markdown",
      "metadata": {
        "id": "view-in-github",
        "colab_type": "text"
      },
      "source": [
        "<a href=\"https://colab.research.google.com/github/dhananjay-m-r/Python-basics/blob/main/Python_2_Flow%20of%20control.ipynb\" target=\"_parent\"><img src=\"https://colab.research.google.com/assets/colab-badge.svg\" alt=\"Open In Colab\"/></a>"
      ]
    },
    {
      "cell_type": "markdown",
      "source": [
        "#About this notebook\n",
        "\n",
        "Notebook made by: Dhananjay M.R\n",
        "\n",
        "Subject: Computer Science - Grade 11 CBSE\n",
        "\n",
        "Language: - Python\n",
        "\n",
        "Topic: Intext Questions - Flow of control\n",
        "\n",
        "Execution mode: Script Mode"
      ],
      "metadata": {
        "id": "6zi0XsLjzsDV"
      }
    },
    {
      "cell_type": "markdown",
      "source": [
        "#Program 6-1: Program to print the difference of two numbers."
      ],
      "metadata": {
        "id": "_gIHDG260ix4"
      }
    },
    {
      "cell_type": "code",
      "execution_count": null,
      "metadata": {
        "colab": {
          "base_uri": "https://localhost:8080/"
        },
        "id": "-yIh4gYSzaZz",
        "outputId": "25b7e59c-f872-4449-baee-25baa9eafdc9"
      },
      "outputs": [
        {
          "output_type": "stream",
          "name": "stdout",
          "text": [
            "Enter first number: 23\n",
            "Enter second number: 17\n",
            "The difference of 23 and 17 is 6\n"
          ]
        }
      ],
      "source": [
        "#Program 6-1 #Program to print the difference of two input numbers\n",
        "num1 = int(input(\"Enter first number: \"))\n",
        "num2 = int(input(\"Enter second number: \"))\n",
        "diff = num1 - num2\n",
        "print('')   #Optional Line/Statement\n",
        "print(\"The difference of\",num1,\"and\",num2,\"is\",diff)"
      ]
    },
    {
      "cell_type": "markdown",
      "source": [
        "#Example 6.1: Eligibility to vote"
      ],
      "metadata": {
        "id": "N3LkLCB61AAy"
      }
    },
    {
      "cell_type": "markdown",
      "source": [
        "In this example, if the age entered by the user is greater than 18, then print that the user is eligible to vote. If the condition is true, then the indented statement(s) are executed. The indentation implies that its execution is dependent on the condition. There is no limit on the number of statements that can appear as a block under the if statement. "
      ],
      "metadata": {
        "id": "xoGxH4-e9GIt"
      }
    },
    {
      "cell_type": "code",
      "source": [
        "age = int(input(\"Enter your age: \")) \n",
        "if age >= 18:\n",
        "  print(\"Eligible to vote\") \n",
        "else:\n",
        "  print(\"Not eligible to vote\")"
      ],
      "metadata": {
        "colab": {
          "base_uri": "https://localhost:8080/"
        },
        "id": "4igsP-aC1Nso",
        "outputId": "ade09814-e2e5-4cff-f6d0-91c1fdd2d2a6"
      },
      "execution_count": null,
      "outputs": [
        {
          "output_type": "stream",
          "name": "stdout",
          "text": [
            "Enter your age: 16\n",
            "Not eligible to vote\n"
          ]
        }
      ]
    },
    {
      "cell_type": "markdown",
      "source": [
        "#Program 6-2 Program to print the positive difference of two numbers."
      ],
      "metadata": {
        "id": "dgPRTaS-1jDW"
      }
    },
    {
      "cell_type": "markdown",
      "source": [
        "Many a times there are situations that require multiple conditions to be checked and it may lead to many alternatives. In such cases we can chain the conditions using if..elif (elif means else..if) as demonstrated below"
      ],
      "metadata": {
        "id": "tjdE0QQe9buN"
      }
    },
    {
      "cell_type": "code",
      "source": [
        "num1 = int(input(\"Enter first number: \"))\n",
        "num2 = int(input(\"Enter second number: \"))\n",
        "\n",
        "if num1 > num2:\n",
        "  diff = num1 - num2\n",
        "else:\n",
        "  diff = num2 - num1 \n",
        "\n",
        "print(\"The positive difference of\",num1,\"and\",num2,\"is\",diff)"
      ],
      "metadata": {
        "colab": {
          "base_uri": "https://localhost:8080/"
        },
        "id": "WsK3MH4l1ltB",
        "outputId": "fd3c0844-a171-4606-d5e0-09ab20d39dca"
      },
      "execution_count": null,
      "outputs": [
        {
          "output_type": "stream",
          "name": "stdout",
          "text": [
            "Enter first number: 20\n",
            "Enter second number: 48\n",
            "The positive difference of 20 and 48 is 28\n"
          ]
        }
      ]
    },
    {
      "cell_type": "markdown",
      "source": [
        "#Example 6.2 Check whether a number is positive, negative, or zero."
      ],
      "metadata": {
        "id": "1vlfLoSs2AZE"
      }
    },
    {
      "cell_type": "code",
      "source": [
        "number = int(input(\"Enter a number: \"))\n",
        "\n",
        "if number > 0:\n",
        "  print(\"Number is positive\")\n",
        "\n",
        "elif number < 0:\n",
        "  print(\"Number is negative\")\n",
        "\n",
        "else:\n",
        "  print(\"Number is zero\")"
      ],
      "metadata": {
        "colab": {
          "base_uri": "https://localhost:8080/"
        },
        "id": "xeAL3jU32CeX",
        "outputId": "96652b77-588a-4be3-b6a8-676b3053f798"
      },
      "execution_count": null,
      "outputs": [
        {
          "output_type": "stream",
          "name": "stdout",
          "text": [
            "Enter a number: 58\n",
            "Number is positive\n"
          ]
        }
      ]
    },
    {
      "cell_type": "markdown",
      "source": [
        "#Example 6.3 Display the appropriate message as per the colour of signal at the road crossing."
      ],
      "metadata": {
        "id": "wpUADEv13LqX"
      }
    },
    {
      "cell_type": "code",
      "source": [
        "signal = input(\"Enter the colour: \")\n",
        "\n",
        "if signal == \"red\" or signal == \"RED\":\n",
        "  print(\"STOP\")\n",
        "  \n",
        "elif signal == \"orange\" or signal == \"ORANGE\":\n",
        "  print(\"Be Slow\")\n",
        "  \n",
        "elif signal == \"green\" or signal == \"GREEN\":\n",
        "  print(\"Go!\") "
      ],
      "metadata": {
        "colab": {
          "base_uri": "https://localhost:8080/"
        },
        "id": "4Wg_495i3RMU",
        "outputId": "570f3a4d-59c3-434f-b3b9-75e8c447919d"
      },
      "execution_count": null,
      "outputs": [
        {
          "output_type": "stream",
          "name": "stdout",
          "text": [
            "Enter the colour: red\n",
            "STOP\n"
          ]
        }
      ]
    },
    {
      "cell_type": "markdown",
      "source": [
        "#Program 6-3 Write a program to create a simple calculator  performing only four basic operations."
      ],
      "metadata": {
        "id": "kCgrDU5j3oKa"
      }
    },
    {
      "cell_type": "markdown",
      "source": [
        "Number of elif is dependent on the number of conditions to be checked. If the first condition is false, then the next condition is checked, and so on. If one of the conditions is true, then the corresponding indented block executes, and the if statement terminates."
      ],
      "metadata": {
        "id": "lBMYdUsa9wB_"
      }
    },
    {
      "cell_type": "code",
      "source": [
        "result = 0\n",
        "\n",
        "val1 = float(input(\"Enter value 1: \"))\n",
        "val2 = float(input(\"Enter value 2: \"))\n",
        "op = input(\"Enter any one of the operator (+,-,*,/): \")\n",
        "\n",
        "if op == \"+\":\n",
        "  result = val1 + val2\n",
        "\n",
        "elif op == \"-\":\n",
        "  if val1 > val2:\n",
        "    result = val1 - val2\n",
        "  else:\n",
        "    result = val2 - val1  \n",
        "\n",
        "elif op == \"*\":\n",
        "  result = val1 * val2\n",
        "\n",
        "elif op == \"/\":    \n",
        "  if val2 == 0:\n",
        "    print(\"Error! Division by zero is not allowed. Program terminated\")\n",
        "  else:\n",
        "    result = val1/val2\n",
        "\n",
        "else:\n",
        "   print(\"Wrong input,program terminated\")\n",
        "\n",
        "print(\"The result is \",result)"
      ],
      "metadata": {
        "colab": {
          "base_uri": "https://localhost:8080/"
        },
        "id": "AnXw4paA91xE",
        "outputId": "b1f4864c-9796-428e-b4cb-4d2c0f4dd972"
      },
      "execution_count": null,
      "outputs": [
        {
          "output_type": "stream",
          "name": "stdout",
          "text": [
            "Enter value 1: 568\n",
            "Enter value 2: 432\n",
            "Enter any one of the operator (+,-,*,/): +\n",
            "The result is  1000.0\n"
          ]
        }
      ]
    },
    {
      "cell_type": "markdown",
      "source": [
        "In the program, for the operators \"-\" and \"/\", there exists an if..else condition within the elif block. This is called nested if. We can have many levels of nesting inside if..else statements."
      ],
      "metadata": {
        "id": "9-ZZO1-j_BhQ"
      }
    },
    {
      "cell_type": "markdown",
      "source": [
        "#Indentation\n",
        "In most programming languages, the statements within a block are put inside curly brackets. However, Python uses indentation for block as well as for nested block structures. Leading whitespace (spaces and tabs) at the beginning of a statement is called indentation. In Python, the same level of indentation associates statements into a single block of code. The interpreter checks indentation levels very strictly and throws up syntax errors if indentation is not correct. It is a common practice to use a single tab for each level of indentation."
      ],
      "metadata": {
        "id": "-9IliDP5_RO1"
      }
    },
    {
      "cell_type": "markdown",
      "source": [
        "#Program 6-4 Program to find the larger of the two pre-specified numbers."
      ],
      "metadata": {
        "id": "W3-SRFSa_UVX"
      }
    },
    {
      "cell_type": "code",
      "source": [
        "num1 = 5\n",
        "num2 = 6 \n",
        "\n",
        "if num1 > num2:\n",
        "  print(\"first number is larger\")\n",
        "  print(\"Bye\") \n",
        "\n",
        "else:\n",
        "  print(\"second number is larger\")\n",
        "  print(\"Bye Bye\")"
      ],
      "metadata": {
        "colab": {
          "base_uri": "https://localhost:8080/"
        },
        "id": "fR17wVnf_YWl",
        "outputId": "08955146-634d-4159-ac07-a26cb282dc6c"
      },
      "execution_count": null,
      "outputs": [
        {
          "output_type": "stream",
          "name": "stdout",
          "text": [
            "second number is larger\n",
            "Bye Bye\n"
          ]
        }
      ]
    },
    {
      "cell_type": "markdown",
      "source": [
        "In the above program 6-4, the if-else statement has two blocks of statements and the statements in each block are indented with the same amount of spaces or tabs."
      ],
      "metadata": {
        "id": "OomtlJWN_-4V"
      }
    },
    {
      "cell_type": "markdown",
      "source": [
        "#'For' Loop\n",
        "The for statement is used to iterate over a range of values or a sequence. The for loop is executed for each of the items in the range. These values can be either numeric, or, as we shall see in later chapters, they can be elements of a data type like a string, list, or tuple. With every iteration of the loop, the control variable checks whether each of the values in the range have been traversed or not. When all the items in the range are exhausted, the statements within loop are not executed; the control is then transferred to the statement immediately following the for loop. While using for loop, it is known in advance the number of times the loop will execute. "
      ],
      "metadata": {
        "id": "bLX_XKN8AFur"
      }
    },
    {
      "cell_type": "markdown",
      "source": [
        "#(A) Syntax of the For Loop\n",
        "\n",
        "    for<control-variable> in <sequence/ items in range>:\n",
        "        <statements inside body of the loop>"
      ],
      "metadata": {
        "id": "8aDcgSy6GWDq"
      }
    },
    {
      "cell_type": "markdown",
      "source": [
        "#Program 6-6: Program to print the characters in the string ‘PYTHON’ using for  loop."
      ],
      "metadata": {
        "id": "R9No4ZAHHKV-"
      }
    },
    {
      "cell_type": "code",
      "source": [
        "for letter in 'PYTHON':\n",
        "  print(letter)"
      ],
      "metadata": {
        "colab": {
          "base_uri": "https://localhost:8080/"
        },
        "id": "ibUOOLFQHRD4",
        "outputId": "1c14402d-9b0d-4936-b50f-2db1792667c7"
      },
      "execution_count": null,
      "outputs": [
        {
          "output_type": "stream",
          "name": "stdout",
          "text": [
            "P\n",
            "Y\n",
            "T\n",
            "H\n",
            "O\n",
            "N\n"
          ]
        }
      ]
    },
    {
      "cell_type": "markdown",
      "source": [
        "#Program 6-7: Program to print the numbers in a given  sequence using for loop."
      ],
      "metadata": {
        "id": "P8Xj6vA-HYjb"
      }
    },
    {
      "cell_type": "code",
      "source": [
        "count = [10,20,30,40,50]\n",
        "for num in count:\n",
        "  print(num)"
      ],
      "metadata": {
        "colab": {
          "base_uri": "https://localhost:8080/"
        },
        "id": "HK2hkckrHWSv",
        "outputId": "8842d79c-7677-416a-89bf-b283b9c7399e"
      },
      "execution_count": null,
      "outputs": [
        {
          "output_type": "stream",
          "name": "stdout",
          "text": [
            "10\n",
            "20\n",
            "30\n",
            "40\n",
            "50\n"
          ]
        }
      ]
    },
    {
      "cell_type": "markdown",
      "source": [
        "#Program 6-8: Program to print even numbers in a given sequence using for loop."
      ],
      "metadata": {
        "id": "uH01zIgAHjjU"
      }
    },
    {
      "cell_type": "code",
      "source": [
        "numbers = [1,2,3,4,5,6,7,8,9,10]\n",
        "for num in numbers:\n",
        "  if (num % 2) == 0:\n",
        "    print(num,'is an even Number')"
      ],
      "metadata": {
        "colab": {
          "base_uri": "https://localhost:8080/"
        },
        "id": "lXHaRlXXHl-g",
        "outputId": "a8c2ff34-bead-4d89-d8c9-25a113bdaa65"
      },
      "execution_count": null,
      "outputs": [
        {
          "output_type": "stream",
          "name": "stdout",
          "text": [
            "2 is an even Number\n",
            "4 is an even Number\n",
            "6 is an even Number\n",
            "8 is an even Number\n",
            "10 is an even Number\n"
          ]
        }
      ]
    },
    {
      "cell_type": "markdown",
      "source": [
        "#(B) The Range() Function\n",
        "The range() is a built-in function in Python. \n",
        "\n",
        "Syntax of range() function is: `range([start], stop[, step])`\n",
        "\n",
        "It is used to create a list containing a sequence of integers from the given start value upto stop value (excluding stop value), with a difference of the given step value. We will learn about functions in the next chapter. To begin with, simply remember that function takes parameters to work on. In function range(), start, stop and step are parameters. \n",
        "\n",
        "The start and step parameters are optional. If start value is not specified, by default the list starts from 0. If step is also not specified, by default the value increases by 1 in each iteration. All parameters of range() function must be integers. The step parameter can be a positive or a negative integer excluding zero. "
      ],
      "metadata": {
        "id": "xaaI1mxjHxcN"
      }
    },
    {
      "cell_type": "markdown",
      "source": [
        "#Example 6.4:"
      ],
      "metadata": {
        "id": "9eQlRdFlIYuo"
      }
    },
    {
      "cell_type": "code",
      "source": [
        "#start and step not specified >>> \n",
        "list(range(10)) "
      ],
      "metadata": {
        "colab": {
          "base_uri": "https://localhost:8080/"
        },
        "id": "WyseMFhzInHb",
        "outputId": "999640d5-3d7b-482a-d267-f5162b870b56"
      },
      "execution_count": null,
      "outputs": [
        {
          "output_type": "execute_result",
          "data": {
            "text/plain": [
              "[0, 1, 2, 3, 4, 5, 6, 7, 8, 9]"
            ]
          },
          "metadata": {},
          "execution_count": 7
        }
      ]
    },
    {
      "cell_type": "code",
      "source": [
        "#default step value is 1 >>> \n",
        "list(range(2, 10))  "
      ],
      "metadata": {
        "colab": {
          "base_uri": "https://localhost:8080/"
        },
        "id": "IJFG-N7KIvlm",
        "outputId": "4438b64e-3dd1-45be-a2b9-f7cc1e8b58c0"
      },
      "execution_count": null,
      "outputs": [
        {
          "output_type": "execute_result",
          "data": {
            "text/plain": [
              "[2, 3, 4, 5, 6, 7, 8, 9]"
            ]
          },
          "metadata": {},
          "execution_count": 8
        }
      ]
    },
    {
      "cell_type": "markdown",
      "source": [
        "The function range() is often used in for loops for generating a sequence of numbers."
      ],
      "metadata": {
        "id": "rloh2H_YKQdo"
      }
    },
    {
      "cell_type": "code",
      "source": [
        "#step value is 5 >>> \n",
        "list(range(0, 30, 5))"
      ],
      "metadata": {
        "colab": {
          "base_uri": "https://localhost:8080/"
        },
        "id": "UylLuu7zI8wp",
        "outputId": "304ae152-f573-410b-907a-7196b9040f88"
      },
      "execution_count": null,
      "outputs": [
        {
          "output_type": "execute_result",
          "data": {
            "text/plain": [
              "[0, 5, 10, 15, 20, 25]"
            ]
          },
          "metadata": {},
          "execution_count": 9
        }
      ]
    },
    {
      "cell_type": "code",
      "source": [
        "#step value is -1. Hence, decreasing  \n",
        "#sequence is generated >>>\n",
        "list (range (0, -9, -1)) "
      ],
      "metadata": {
        "colab": {
          "base_uri": "https://localhost:8080/"
        },
        "id": "ZVx0BnFyJCh8",
        "outputId": "0ae0dd34-fa92-4aee-c77e-97898c174868"
      },
      "execution_count": null,
      "outputs": [
        {
          "output_type": "execute_result",
          "data": {
            "text/plain": [
              "[0, -1, -2, -3, -4, -5, -6, -7, -8]"
            ]
          },
          "metadata": {},
          "execution_count": 10
        }
      ]
    },
    {
      "cell_type": "markdown",
      "source": [
        "#Program 6-9: Program to print the multiples of 10 for  numbers in a given range."
      ],
      "metadata": {
        "id": "YjVA1HLUKcX1"
      }
    },
    {
      "cell_type": "code",
      "source": [
        "for num in range(5):\n",
        "  if num > 0:\n",
        "    print(num * 10)"
      ],
      "metadata": {
        "colab": {
          "base_uri": "https://localhost:8080/"
        },
        "id": "0EpXGJSCKgaa",
        "outputId": "40ee5a80-222c-4bd0-e614-2b3a0c4784cb"
      },
      "execution_count": null,
      "outputs": [
        {
          "output_type": "stream",
          "name": "stdout",
          "text": [
            "10\n",
            "20\n",
            "30\n",
            "40\n"
          ]
        }
      ]
    },
    {
      "cell_type": "markdown",
      "source": [
        "#The ‘While’ Loop\n",
        "The while statement executes a block of code repeatedly as long as the control condition of the loop is true. The control condition of the while loop is executed before any statement inside the loop is executed. After each iteration, the control condition is tested again and the loop continues as long as the condition remains true. When this condition becomes false, the statements in the body  of loop are not executed and the control is transferred to the statement immediately following the body of while loop. If the condition of the while loop is initially false, the body is not executed even once. \n",
        "\n",
        "The statements within the body of the while loop must ensure that the condition eventually becomes false; otherwise the loop will become an infinite loop, leading to a logical error in the program. "
      ],
      "metadata": {
        "id": "nDCV85dhKn94"
      }
    },
    {
      "cell_type": "markdown",
      "source": [
        "#Syntax of while Loop: \n",
        "```\n",
        "while test_condition: \n",
        "    body of while\n",
        "```\n",
        "\n"
      ],
      "metadata": {
        "id": "sqYB4P8GLKkZ"
      }
    },
    {
      "cell_type": "markdown",
      "source": [
        "#Program 6-10: Program to print first 5 natural numbers using while loop."
      ],
      "metadata": {
        "id": "1jQBhl6yLZ-j"
      }
    },
    {
      "cell_type": "code",
      "source": [
        "count = 1\n",
        "while count <= 5:\n",
        "  print(count)\n",
        "  count += 1"
      ],
      "metadata": {
        "id": "A4XCaxl9LiQN"
      },
      "execution_count": null,
      "outputs": []
    },
    {
      "cell_type": "markdown",
      "source": [
        "#Program 6-11: Program to find the factors of a whole number using while loop."
      ],
      "metadata": {
        "id": "xogugnAOLsjN"
      }
    },
    {
      "cell_type": "code",
      "source": [
        "num = int(input(\"Enter a number to find its factor: \"))\n",
        "print (1, end=' ')   #1 is a factor of every number \n",
        "factor = 2 \n",
        "\n",
        "while factor <= num/2 :\n",
        "  if num % factor == 0:\n",
        "    #the optional parameter end of print function specifies the delimeter \n",
        "    #blank space(' ') to print next value on same line \n",
        "    print(factor, end=' ')\n",
        "  factor += 1\n",
        "print (num, end=' ') #every number is a factor of itself"
      ],
      "metadata": {
        "colab": {
          "base_uri": "https://localhost:8080/"
        },
        "id": "CePD2ziiLrhu",
        "outputId": "08ea107f-45e2-4bd0-b9c8-94d052bf4927"
      },
      "execution_count": null,
      "outputs": [
        {
          "output_type": "stream",
          "name": "stdout",
          "text": [
            "Enter a number to find its factor: 6\n",
            "1 2 3 6 "
          ]
        }
      ]
    },
    {
      "cell_type": "markdown",
      "source": [
        "# Break Statement\n",
        "The `break` statement alters the normal flow of execution as it terminates the current loop and resumes execution of the statement following that loop."
      ],
      "metadata": {
        "id": "YlsIqhYxPGVo"
      }
    },
    {
      "cell_type": "markdown",
      "source": [
        "#Program 6-12: Program to demonstrate use of break statement."
      ],
      "metadata": {
        "id": "2sCCZH8KPdCX"
      }
    },
    {
      "cell_type": "code",
      "source": [
        "num = 0\n",
        "for num in range(10):\n",
        "  num = num + 1\n",
        "  if num == 8:\n",
        "    break\n",
        "  print('Num has value ' + str(num))\n",
        "print('Encountered break!! Out of loop')"
      ],
      "metadata": {
        "colab": {
          "base_uri": "https://localhost:8080/"
        },
        "id": "HtklcGvjPjA2",
        "outputId": "0b952c7f-9fab-4d9e-b80d-96f253b8f0a2"
      },
      "execution_count": null,
      "outputs": [
        {
          "output_type": "stream",
          "name": "stdout",
          "text": [
            "Num has value 1\n",
            "Num has value 2\n",
            "Num has value 3\n",
            "Num has value 4\n",
            "Num has value 5\n",
            "Num has value 6\n",
            "Num has value 7\n",
            "Encountered break!! Out of loop\n"
          ]
        }
      ]
    },
    {
      "cell_type": "markdown",
      "source": [
        "**Note:** When value of num becomes 8, the break statement is executed and the for loop terminates. "
      ],
      "metadata": {
        "id": "4kVGLCC2Pw2A"
      }
    },
    {
      "cell_type": "markdown",
      "source": [
        "#Program 6-13: Find the sum of all the positive numbers entered by the user. As soon as the user enters a negative number, stop taking in any further input from the user and display the sum."
      ],
      "metadata": {
        "id": "nP-wLRRZP2P4"
      }
    },
    {
      "cell_type": "code",
      "source": [
        "entry = 0 \n",
        "sum1 = 0\n",
        "print(\"Enter numbers to find their sum, negative number ends the loop:\") \n",
        "\n",
        "while True:\n",
        "  #int() typecasts string to integer\n",
        "  entry = int(input())\n",
        "  if (entry < 0):\n",
        "    break\n",
        "  sum1 += entry\n",
        "print(\"Sum =\", sum1)"
      ],
      "metadata": {
        "colab": {
          "base_uri": "https://localhost:8080/"
        },
        "id": "7HtWCsYKQAOB",
        "outputId": "8f35edf9-3338-46d6-fbd8-94db87ecd742"
      },
      "execution_count": null,
      "outputs": [
        {
          "output_type": "stream",
          "name": "stdout",
          "text": [
            "Enter numbers to find their sum, negative number ends the loop:\n",
            "3\n",
            "6\n",
            "1\n",
            "9\n",
            "34\n",
            "54\n",
            "356\n",
            "-34\n",
            "Sum = 463\n"
          ]
        }
      ]
    },
    {
      "cell_type": "markdown",
      "source": [
        "#Program 6-14: Program to check if the input number is prime or not."
      ],
      "metadata": {
        "id": "4Y4vr_xJQo0m"
      }
    },
    {
      "cell_type": "code",
      "source": [
        "num = int(input(\"Enter the number to be checked: \")) \n",
        "\n",
        "flag = 0           #presume num is a prime number \n",
        "\n",
        "if num > 1 :\n",
        "  for i in range(2, int(num / 2)):\n",
        "    if (num % i == 0):\n",
        "      flag = 1  #num is a not prime number\n",
        "      break     #no need to check any further\n",
        "  if flag == 1:\n",
        "      print(num , \"is not a prime number\")\n",
        "  else:\n",
        "      print(num , \"is a prime number\")\n",
        "else:\n",
        "    print(\"Entered number is <= 1, execute again!\")"
      ],
      "metadata": {
        "colab": {
          "base_uri": "https://localhost:8080/"
        },
        "id": "XJ6iQlL2Qyv7",
        "outputId": "693bd46f-f874-42dd-cadf-63b11d24917a"
      },
      "execution_count": null,
      "outputs": [
        {
          "output_type": "stream",
          "name": "stdout",
          "text": [
            "Enter the number to be checked: 23\n",
            "23 is a prime number\n"
          ]
        }
      ]
    },
    {
      "cell_type": "markdown",
      "source": [
        "#Continue Statement\n",
        "When a `continue` statement is encountered, the control skips the execution of remaining statements inside the body of the loop for the current iteration and jumps to the beginning of the loop for the next iteration. If the loop’s condition is still true, the loop is entered again, else the control is transferred to the statement immediately following the loop."
      ],
      "metadata": {
        "id": "wxXHjYNdk3jU"
      }
    },
    {
      "cell_type": "markdown",
      "source": [
        "#Program 6-15: Program to demonstrate the use of continue statement."
      ],
      "metadata": {
        "id": "NhTN6hE4lLDE"
      }
    },
    {
      "cell_type": "code",
      "source": [
        "num = 0\n",
        "for num in range(6):\n",
        "  num = num + 1\n",
        "  if num == 3:\n",
        "    continue\n",
        "  print('Num has value ' + str(num))\n",
        "print('End of loop')"
      ],
      "metadata": {
        "colab": {
          "base_uri": "https://localhost:8080/"
        },
        "id": "s8K-Ppa9lJcH",
        "outputId": "c7b3f94d-b530-4b53-ab10-cbca61369638"
      },
      "execution_count": null,
      "outputs": [
        {
          "output_type": "stream",
          "name": "stdout",
          "text": [
            "Num has value 1\n",
            "Num has value 2\n",
            "Num has value 4\n",
            "Num has value 5\n",
            "Num has value 6\n",
            "End of loop\n"
          ]
        }
      ]
    },
    {
      "cell_type": "markdown",
      "source": [
        "Observe that the value 3 is not printed in the output, but the loop continues after the continue statement to print other values till the for loop terminates."
      ],
      "metadata": {
        "id": "L0oF3YW0lepl"
      }
    },
    {
      "cell_type": "markdown",
      "source": [
        "#Nested Loops\n",
        "A loop may contain another loop inside it. A loop inside another loop is called a nested loop."
      ],
      "metadata": {
        "id": "gRgwp63mlqqf"
      }
    },
    {
      "cell_type": "markdown",
      "source": [
        "#Program 6-16: Program to demonstrate working of nested for loops."
      ],
      "metadata": {
        "id": "4ZBYPx9Wlu6r"
      }
    },
    {
      "cell_type": "code",
      "source": [
        "for var1 in range(3):\n",
        "  print( \"Iteration \" + str(var1 + 1) + \" of outer loop\")\n",
        "  for var2 in range(2):    #nested loop \n",
        "    print(var2 + 1)\n",
        "  print(\"Out of inner loop\")\n",
        "print(\"Out of outer loop\")"
      ],
      "metadata": {
        "colab": {
          "base_uri": "https://localhost:8080/"
        },
        "id": "jdnkg7lTl2wp",
        "outputId": "67f37a1a-aa5c-45cc-a6fb-9e4314c179bb"
      },
      "execution_count": null,
      "outputs": [
        {
          "output_type": "stream",
          "name": "stdout",
          "text": [
            "Iteration 1 of outer loop\n",
            "1\n",
            "2\n",
            "Out of inner loop\n",
            "Iteration 2 of outer loop\n",
            "1\n",
            "2\n",
            "Out of inner loop\n",
            "Iteration 3 of outer loop\n",
            "1\n",
            "2\n",
            "Out of inner loop\n",
            "Out of outer loop\n"
          ]
        }
      ]
    },
    {
      "cell_type": "markdown",
      "source": [
        "#Program 6-17: Program to print the pattern for a number input by the user."
      ],
      "metadata": {
        "id": "3ud_mSasmJVO"
      }
    },
    {
      "cell_type": "code",
      "source": [
        "num = int(input(\"Enter a number to generate its pattern = \"))\n",
        "for i in range(1,num + 1):\n",
        "  for j in range(1,i + 1):\n",
        "    print(j, end = \" \")\n",
        "  print()"
      ],
      "metadata": {
        "colab": {
          "base_uri": "https://localhost:8080/"
        },
        "id": "9d1Qi_D9mRmg",
        "outputId": "3e7b9f6c-3bb6-4e7e-d2d8-ceab538c3ea3"
      },
      "execution_count": null,
      "outputs": [
        {
          "output_type": "stream",
          "name": "stdout",
          "text": [
            "Enter a number to generate its pattern = 7\n",
            "1 \n",
            "1 2 \n",
            "1 2 3 \n",
            "1 2 3 4 \n",
            "1 2 3 4 5 \n",
            "1 2 3 4 5 6 \n",
            "1 2 3 4 5 6 7 \n"
          ]
        }
      ]
    },
    {
      "cell_type": "markdown",
      "source": [
        "#Program 6-18: Program to find prime numbers between 2 to 50 using nested for loops."
      ],
      "metadata": {
        "id": "iMP6tZL0nE24"
      }
    },
    {
      "cell_type": "code",
      "source": [
        "num = 2 \n",
        "for i in range(2, 50):\n",
        "  j= 2\n",
        "  while ( j <= (i/2)):\n",
        "    if (i % j == 0):  #factor found\n",
        "      break           #break out of while loop\n",
        "    j += 1     \n",
        "  if ( j > i/j) :           #no factor found\n",
        "    print( i, \"is a prime number\") \n",
        "print(\"Bye Bye!!\")"
      ],
      "metadata": {
        "colab": {
          "base_uri": "https://localhost:8080/"
        },
        "id": "Ec471IpxnPrv",
        "outputId": "4e027e61-968e-4c45-828a-73d202c73850"
      },
      "execution_count": null,
      "outputs": [
        {
          "output_type": "stream",
          "name": "stdout",
          "text": [
            "2 is a prime number\n",
            "3 is a prime number\n",
            "5 is a prime number\n",
            "7 is a prime number\n",
            "11 is a prime number\n",
            "13 is a prime number\n",
            "17 is a prime number\n",
            "19 is a prime number\n",
            "23 is a prime number\n",
            "29 is a prime number\n",
            "31 is a prime number\n",
            "37 is a prime number\n",
            "41 is a prime number\n",
            "43 is a prime number\n",
            "47 is a prime number\n",
            "Bye Bye!!\n"
          ]
        }
      ]
    }
  ]
}