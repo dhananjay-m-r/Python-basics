{
  "nbformat": 4,
  "nbformat_minor": 0,
  "metadata": {
    "colab": {
      "provenance": [],
      "toc_visible": true,
      "mount_file_id": "17LCKYj9qSICM34wbsqKptQfM_wj6wTZU",
      "authorship_tag": "ABX9TyPXLrAz737+Tcgp4DaJXAdq",
      "include_colab_link": true
    },
    "kernelspec": {
      "name": "python3",
      "display_name": "Python 3"
    },
    "language_info": {
      "name": "python"
    }
  },
  "cells": [
    {
      "cell_type": "markdown",
      "metadata": {
        "id": "view-in-github",
        "colab_type": "text"
      },
      "source": [
        "<a href=\"https://colab.research.google.com/github/dhananjay-m-r/Python-basics/blob/main/Python_1_Getting%20Started.ipynb\" target=\"_parent\"><img src=\"https://colab.research.google.com/assets/colab-badge.svg\" alt=\"Open In Colab\"/></a>"
      ]
    },
    {
      "cell_type": "markdown",
      "source": [
        "#About this notebook\n",
        "\n",
        "Notebook made by: Dhananjay M.R\n",
        "\n",
        "Subject: Computer Science - Grade 11 CBSE\n",
        "\n",
        "Language: - Python\n",
        "\n",
        "Topic: Getting Started with Python\n",
        "\n",
        "Execution mode: Script Mode"
      ],
      "metadata": {
        "id": "txa0wTlVz-a1"
      }
    },
    {
      "cell_type": "markdown",
      "source": [
        "#Basics\n",
        "Fundamentals to get started with Python"
      ],
      "metadata": {
        "id": "Xew3JZU9UF-X"
      }
    },
    {
      "cell_type": "code",
      "execution_count": null,
      "metadata": {
        "colab": {
          "base_uri": "https://localhost:8080/"
        },
        "id": "rBs0tSJeYC-Z",
        "outputId": "31c9a916-825f-43e8-d448-ff86d586945f"
      },
      "outputs": [
        {
          "output_type": "stream",
          "name": "stdout",
          "text": [
            "Save Earth\n",
            "Preserve Future\n"
          ]
        }
      ],
      "source": [
        "# Program 5-1\n",
        "# Write a program to show print statement in script mode\n",
        "\n",
        "print(\"Save Earth\")\n",
        "print('Preserve Future')"
      ]
    },
    {
      "cell_type": "code",
      "source": [
        "# Program 5-2\n",
        "# Write a program to display values of variables in Python\n",
        "\n",
        "message = 'Keep Smiling'\n",
        "print(message)\n",
        "userNo = 101\n",
        "print('User Number is', userNo)"
      ],
      "metadata": {
        "colab": {
          "base_uri": "https://localhost:8080/"
        },
        "id": "5IfUfdy0tEEg",
        "outputId": "09cdb545-3305-4193-c222-0d6bca1d50bc"
      },
      "execution_count": null,
      "outputs": [
        {
          "output_type": "stream",
          "name": "stdout",
          "text": [
            "Keep Smiling\n",
            "User Number is 101\n"
          ]
        }
      ]
    },
    {
      "cell_type": "code",
      "source": [
        "# Program 5-3\n",
        "# Write a python program to find the area of a rectangle given that its length is 10 units and breadths is 20 units\n",
        "\n",
        "# To find the area of rectangle\n",
        "length = 10\n",
        "breadth = 20\n",
        "area = length*breadth\n",
        "print(area)"
      ],
      "metadata": {
        "colab": {
          "base_uri": "https://localhost:8080/"
        },
        "id": "tp6xl8oSvA0U",
        "outputId": "66a205d8-606e-437f-a320-f6125d152ebc"
      },
      "execution_count": null,
      "outputs": [
        {
          "output_type": "stream",
          "name": "stdout",
          "text": [
            "200\n"
          ]
        }
      ]
    },
    {
      "cell_type": "code",
      "source": [
        "# Example 5.1 | 5.5 Using comments\n",
        "\n",
        "# Variable amount is the total spending on grocery\n",
        "amount = 3400"
      ],
      "metadata": {
        "id": "hAg1PiPNt6hY"
      },
      "execution_count": null,
      "outputs": []
    },
    {
      "cell_type": "code",
      "source": [
        "# Program 5-4\n",
        "# Write a python program to find the sum of 2 numbers\n",
        "\n",
        "# To find the sum of two numbers\n",
        "num1 = 10\n",
        "num2 = 20\n",
        "result = num1 + num2\n",
        "print(result)"
      ],
      "metadata": {
        "colab": {
          "base_uri": "https://localhost:8080/"
        },
        "id": "4ZvgYzSUvip4",
        "outputId": "705d1a3d-84b7-4d7b-e18e-60aeb97e2e7a"
      },
      "execution_count": null,
      "outputs": [
        {
          "output_type": "stream",
          "name": "stdout",
          "text": [
            "30\n"
          ]
        }
      ]
    },
    {
      "cell_type": "markdown",
      "source": [
        "# Data Types\n",
        "Data type identifies the type of data values a variable can hold and the operations that can be performed on that data."
      ],
      "metadata": {
        "id": "t_VQRXFOEqC0"
      }
    },
    {
      "cell_type": "code",
      "source": [
        "# Example 5.3 | Data types\n",
        "\n",
        "num1 = 10\n",
        "print(type(num1))\n",
        "\n",
        "num2 = -1210\n",
        "print(type(num2))\n",
        "\n",
        "var1 = True\n",
        "print(type(var1))\n",
        "\n",
        "float1 = -1921.9\n",
        "print(type(float1))\n",
        "\n",
        "var2 = -3+7.2j\n",
        "print(type(var2))"
      ],
      "metadata": {
        "colab": {
          "base_uri": "https://localhost:8080/"
        },
        "id": "IKCtAGmu_2IG",
        "outputId": "45e78ab9-9439-467e-ae64-0e6c98442cd5"
      },
      "execution_count": null,
      "outputs": [
        {
          "output_type": "stream",
          "name": "stdout",
          "text": [
            "<class 'int'>\n",
            "<class 'int'>\n",
            "<class 'bool'>\n",
            "<class 'float'>\n",
            "<class 'complex'>\n"
          ]
        }
      ]
    },
    {
      "cell_type": "markdown",
      "source": [
        "# Sequence\n",
        "A Python sequence is an ordered collection of items, where each item is indexed by an integer."
      ],
      "metadata": {
        "id": "I98IcLliCPpc"
      }
    },
    {
      "cell_type": "code",
      "source": [
        "# Example 5.4 | Lists\n",
        "\n",
        "# To create a list\n",
        "list1 = [5, 3.4, 'New Delhi', '20C', 45]\n",
        "\n",
        "# To print the elements of the list in list1\n",
        "print(list1)"
      ],
      "metadata": {
        "colab": {
          "base_uri": "https://localhost:8080/"
        },
        "id": "QvcUNFfr282P",
        "outputId": "6e2d3871-5df5-4722-e27a-cac4d646e2a0"
      },
      "execution_count": null,
      "outputs": [
        {
          "output_type": "stream",
          "name": "stdout",
          "text": [
            "[5, 3.4, 'New Delhi', '20C', 45]\n"
          ]
        }
      ]
    },
    {
      "cell_type": "code",
      "source": [
        "# Example 5.5 | Tuple\n",
        "\n",
        "# Creating a tuple\n",
        "tuple1 = (10, 20, 'Apple', 3.4, 'a')\n",
        "# To print the elements of the tuple: tuple1\n",
        "print(tuple1)"
      ],
      "metadata": {
        "colab": {
          "base_uri": "https://localhost:8080/"
        },
        "id": "W81_r5n83lyG",
        "outputId": "7795ac98-7e31-4077-f31b-5039217ec285"
      },
      "execution_count": null,
      "outputs": [
        {
          "output_type": "stream",
          "name": "stdout",
          "text": [
            "(10, 20, 'Apple', 3.4, 'a')\n"
          ]
        }
      ]
    },
    {
      "cell_type": "code",
      "source": [
        "# Example 5.6 | Set\n",
        "# Create a set\n",
        "\n",
        "set1 = {10,20,3.14,'New Delhi'}\n",
        "print(type(set1))\n",
        "print(set1)\n",
        "\n",
        "# Duplicate elements are not included in the set\n",
        "set2 = {1,2,1,3}\n",
        "print(set2)"
      ],
      "metadata": {
        "id": "-P43UeNL4K_C",
        "colab": {
          "base_uri": "https://localhost:8080/"
        },
        "outputId": "764f8391-6385-4d0a-bf68-e5ff67780080"
      },
      "execution_count": null,
      "outputs": [
        {
          "output_type": "stream",
          "name": "stdout",
          "text": [
            "<class 'set'>\n",
            "{10, 3.14, 20, 'New Delhi'}\n",
            "{1, 2, 3}\n"
          ]
        }
      ]
    },
    {
      "cell_type": "code",
      "source": [
        "# Example 5.7 | None\n",
        "\n",
        "myvar = None\n",
        "print(type(myvar))\n",
        "print(myvar)"
      ],
      "metadata": {
        "id": "O-Bij-m923-v",
        "colab": {
          "base_uri": "https://localhost:8080/"
        },
        "outputId": "d06c4309-96f4-4a69-b4eb-9d95bb7d729e"
      },
      "execution_count": null,
      "outputs": [
        {
          "output_type": "stream",
          "name": "stdout",
          "text": [
            "<class 'NoneType'>\n",
            "None\n"
          ]
        }
      ]
    },
    {
      "cell_type": "code",
      "source": [
        "# Example 5.8 | Dictionary\n",
        "# Create a dictionary\n",
        "\n",
        "dict1 = {'Fruit':'Apple', 'Climate': 'Cold', 'Price(kg)':120}\n",
        "\n",
        "# To print specific details from the dictionary:\n",
        "print(dict1['Fruit'])\n",
        "print(dict1['Price(kg)'])\n",
        "print(dict1['Climate'])\n",
        "\n",
        "# To print everything on the dictionary\n",
        "print(dict1)"
      ],
      "metadata": {
        "colab": {
          "base_uri": "https://localhost:8080/"
        },
        "id": "3pdZSvtDA7Jg",
        "outputId": "80e070bd-0a73-49f9-ab29-66096ac66cad"
      },
      "execution_count": null,
      "outputs": [
        {
          "output_type": "stream",
          "name": "stdout",
          "text": [
            "Apple\n",
            "120\n",
            "Cold\n",
            "{'Fruit': 'Apple', 'Climate': 'Cold', 'Price(kg)': 120}\n"
          ]
        }
      ]
    },
    {
      "cell_type": "markdown",
      "source": [
        "# Arithmetic Operators\n",
        "Arithmetic operators that are used to perform the four basic arithmetic operations as well as modular division, floor division and exponentiation."
      ],
      "metadata": {
        "id": "qHcO-Z-mE26Q"
      }
    },
    {
      "cell_type": "code",
      "source": [
        "# Adittion  +\n",
        "\n",
        "num1 = 5\n",
        "num2 = 6\n",
        "print(num1 + num2)\n",
        "\n",
        "str1 = 'Hello'\n",
        "str2 = 'India'\n",
        "print(str1 + str2)"
      ],
      "metadata": {
        "colab": {
          "base_uri": "https://localhost:8080/"
        },
        "id": "JeJWpA_DFhkl",
        "outputId": "650293e2-694a-4264-efe3-3f1d296effcf"
      },
      "execution_count": null,
      "outputs": [
        {
          "output_type": "stream",
          "name": "stdout",
          "text": [
            "11\n",
            "HelloIndia\n"
          ]
        }
      ]
    },
    {
      "cell_type": "code",
      "source": [
        "# Subtraction  -\n",
        "\n",
        "num1 = 5\n",
        "num2 = 6\n",
        "num1 - num2"
      ],
      "metadata": {
        "colab": {
          "base_uri": "https://localhost:8080/"
        },
        "id": "IJsDj-HPGbmT",
        "outputId": "304d525d-bbfb-4843-a01c-b27e40aa9ef4"
      },
      "execution_count": null,
      "outputs": [
        {
          "output_type": "execute_result",
          "data": {
            "text/plain": [
              "-1"
            ]
          },
          "metadata": {},
          "execution_count": 28
        }
      ]
    },
    {
      "cell_type": "code",
      "source": [
        "# Multiplication  *\n",
        "\n",
        "num1 = 5\n",
        "num2 = 6\n",
        "print(num1 * num2)\n",
        "\n",
        "str1 = 'India'\n",
        "print(str1*2)"
      ],
      "metadata": {
        "colab": {
          "base_uri": "https://localhost:8080/"
        },
        "id": "DKn7nC_AGy70",
        "outputId": "7d56c6c4-e527-4620-918a-65a80dc1af8c"
      },
      "execution_count": null,
      "outputs": [
        {
          "output_type": "stream",
          "name": "stdout",
          "text": [
            "30\n",
            "IndiaIndia\n"
          ]
        }
      ]
    },
    {
      "cell_type": "code",
      "source": [
        "# Divison   /\n",
        "num1 = 8\n",
        "num2 = 4\n",
        "num2/num1"
      ],
      "metadata": {
        "colab": {
          "base_uri": "https://localhost:8080/"
        },
        "id": "67aK3uqCHIL5",
        "outputId": "64e69b89-1f1b-4fc8-c6e4-08405ca2e2f4"
      },
      "execution_count": null,
      "outputs": [
        {
          "output_type": "execute_result",
          "data": {
            "text/plain": [
              "0.5"
            ]
          },
          "metadata": {},
          "execution_count": 30
        }
      ]
    },
    {
      "cell_type": "code",
      "source": [
        "# Modulas   %\n",
        "num1 = 13\n",
        "num2 = 5\n",
        "num1%num2"
      ],
      "metadata": {
        "colab": {
          "base_uri": "https://localhost:8080/"
        },
        "id": "1vyy0DcjHVT8",
        "outputId": "33a1dc04-180e-408b-b29a-741e4966cea6"
      },
      "execution_count": null,
      "outputs": [
        {
          "output_type": "execute_result",
          "data": {
            "text/plain": [
              "3"
            ]
          },
          "metadata": {},
          "execution_count": 31
        }
      ]
    },
    {
      "cell_type": "code",
      "source": [
        "# Floor Division  //\n",
        "num1 = 13\n",
        "num2 = 4\n",
        "print(num1//num2)\n",
        "print(num2//num1)"
      ],
      "metadata": {
        "colab": {
          "base_uri": "https://localhost:8080/"
        },
        "id": "49tUBgBBHjdp",
        "outputId": "213dac5d-0e69-40c9-f7d4-4094e200874a"
      },
      "execution_count": null,
      "outputs": [
        {
          "output_type": "stream",
          "name": "stdout",
          "text": [
            "3\n",
            "0\n"
          ]
        }
      ]
    },
    {
      "cell_type": "code",
      "source": [
        "# Exponent   **\n",
        "num1 = 3\n",
        "num2 = 4\n",
        "num1**num2"
      ],
      "metadata": {
        "colab": {
          "base_uri": "https://localhost:8080/"
        },
        "id": "-FZGIC5iHzGy",
        "outputId": "32d72d0c-fe74-40c0-c8a8-f9bbe490c264"
      },
      "execution_count": null,
      "outputs": [
        {
          "output_type": "execute_result",
          "data": {
            "text/plain": [
              "81"
            ]
          },
          "metadata": {},
          "execution_count": 33
        }
      ]
    },
    {
      "cell_type": "markdown",
      "source": [
        "# Relational Operators\n",
        "Relational operator compares the values of the operands on its either side and determines the relationship among them."
      ],
      "metadata": {
        "id": "IOEHgdBZI208"
      }
    },
    {
      "cell_type": "code",
      "source": [
        "# Relational Operators\n",
        "\n",
        "# Some Global values for Relational Operators\n",
        "num1 = 10\n",
        "num2 = 0\n",
        "num3 = 10\n",
        "str1 = 'Good' \n",
        "str2 = 'Afternoon'\n",
        "\n",
        "# Operator 1. == (Equals to)\n",
        "print('***Results for Operator 1***')\n",
        "print(num1 == num2)\n",
        "print(str1 == str2)\n",
        "\n",
        "print('')\n",
        "\n",
        "# Operator 2. != (Not Equal to)\n",
        "print('***Results for Operator 2***')\n",
        "print(num1 != num2)\n",
        "print(str1 != str2)\n",
        "print(num1 != num3)\n",
        "\n",
        "print('')\n",
        "\n",
        "# Operator 3. > (Greater than)\n",
        "print('***Results for Operator 3***')\n",
        "print(num1 > num2)\n",
        "print(str1 > str2)\n",
        "\n",
        "print('')\n",
        "\n",
        "# Operator 4. < (Less than)\n",
        "print('***Results for Operator 4***')\n",
        "print(num1 < num3)\n",
        "print(str1 < str2)\n",
        "\n",
        "print('')\n",
        "\n",
        "# Operator 5. >= (Greater than or equal to)\n",
        "print('***Results for Operator 5***')\n",
        "print(num1 >= num2)\n",
        "print(num2>= num3)\n",
        "print(str1 >= str2)\n",
        "\n",
        "print('')\n",
        "\n",
        "# Operator 6. <= (Less than or equal to)\n",
        "print('***Results for Operator 6***')\n",
        "print(num1 <= num2)\n",
        "print(num2 <= num3)\n",
        "print(str1 <= str2)"
      ],
      "metadata": {
        "colab": {
          "base_uri": "https://localhost:8080/"
        },
        "id": "z4R9LQlZCq_V",
        "outputId": "8d864c6d-e123-48c2-cb01-427496af0408"
      },
      "execution_count": null,
      "outputs": [
        {
          "output_type": "stream",
          "name": "stdout",
          "text": [
            "***Results for Operator 1***\n",
            "False\n",
            "False\n",
            "\n",
            "***Results for Operator 2***\n",
            "True\n",
            "True\n",
            "False\n",
            "\n",
            "***Results for Operator 3***\n",
            "True\n",
            "True\n",
            "\n",
            "***Results for Operator 4***\n",
            "False\n",
            "False\n",
            "\n",
            "***Results for Operator 5***\n",
            "True\n",
            "False\n",
            "True\n",
            "\n",
            "***Results for Operator 6***\n",
            "False\n",
            "True\n",
            "False\n"
          ]
        }
      ]
    },
    {
      "cell_type": "markdown",
      "source": [
        "# Assignment Operators\n",
        "Assignment operator assigns or changes the value of the variable on its left."
      ],
      "metadata": {
        "id": "Y9PjfLGUPtLM"
      }
    },
    {
      "cell_type": "code",
      "source": [
        "# Operator 1. = \n",
        "\n",
        "num1 = 2\n",
        "num2 = num1\n",
        "\n",
        "country = 'India'\n",
        "\n",
        "print(num2)\n",
        "print(country)"
      ],
      "metadata": {
        "colab": {
          "base_uri": "https://localhost:8080/"
        },
        "id": "8bxf0e4TP7WE",
        "outputId": "aaa9707f-17f4-4a13-9dba-2db4851a8abe"
      },
      "execution_count": null,
      "outputs": [
        {
          "output_type": "stream",
          "name": "stdout",
          "text": [
            "2\n",
            "India\n"
          ]
        }
      ]
    },
    {
      "cell_type": "code",
      "source": [
        "# Operator 2. +=\n",
        "\n",
        "num1 = 10\n",
        "num2 = 2\n",
        "num1 += num2\n",
        "print(num1)\n",
        "print(num2)\n",
        "\n",
        "str1 = 'Hello'\n",
        "str2 = 'India'\n",
        "str1 += str2\n",
        "print(str1)"
      ],
      "metadata": {
        "colab": {
          "base_uri": "https://localhost:8080/"
        },
        "id": "gt7nLqHsQZuf",
        "outputId": "bb822e78-2ae4-43b1-d386-7c48552022a2"
      },
      "execution_count": null,
      "outputs": [
        {
          "output_type": "stream",
          "name": "stdout",
          "text": [
            "12\n",
            "2\n",
            "HelloIndia\n"
          ]
        }
      ]
    },
    {
      "cell_type": "markdown",
      "source": [
        "Above in the Operator 2: It adds the value of right-side operand to the left-side operand and assigns the result to the left-side operand \n",
        "\n",
        "Note: x += y is same as x = x + y"
      ],
      "metadata": {
        "id": "dEAt6rdfTBKh"
      }
    },
    {
      "cell_type": "code",
      "source": [
        "# Operator 3.   -=\n",
        "\n",
        "num1 = 10\n",
        "num2 = 2\n",
        "num1 -= num2\n",
        "num1"
      ],
      "metadata": {
        "colab": {
          "base_uri": "https://localhost:8080/"
        },
        "id": "9H63PoYTTSAB",
        "outputId": "c4e8d028-d5bd-4a04-f609-ded22d211dca"
      },
      "execution_count": null,
      "outputs": [
        {
          "output_type": "execute_result",
          "data": {
            "text/plain": [
              "8"
            ]
          },
          "metadata": {},
          "execution_count": 37
        }
      ]
    },
    {
      "cell_type": "markdown",
      "source": [
        "Above in Operator 3: It subtracts the value of right-side operand from the left-side operand and assigns the result to left-side operand \n",
        "\n",
        "Note: x -= y is same as x = x - y"
      ],
      "metadata": {
        "id": "iDS8bLfjTktH"
      }
    },
    {
      "cell_type": "code",
      "source": [
        "# Operator 4.  *=\n",
        "\n",
        "num1 = 2\n",
        "num2 = 3\n",
        "num1 *= num2\n",
        "print(num1)\n",
        "\n",
        "a = 'India'\n",
        "a *= 3\n",
        "print(a)"
      ],
      "metadata": {
        "colab": {
          "base_uri": "https://localhost:8080/"
        },
        "id": "ZEac5Sw2TuXW",
        "outputId": "95a420ed-4034-44a2-9f90-29f4af57fce5"
      },
      "execution_count": null,
      "outputs": [
        {
          "output_type": "stream",
          "name": "stdout",
          "text": [
            "6\n",
            "IndiaIndiaIndia\n"
          ]
        }
      ]
    },
    {
      "cell_type": "markdown",
      "source": [
        "Above in Operator 4: It multiplies the value of right-side operand with the value of left-side operand and assigns the result to left-side operand \n",
        "\n",
        "Note: x *= y is same as x = x * y"
      ],
      "metadata": {
        "id": "FFQ0HUt5VSCy"
      }
    },
    {
      "cell_type": "code",
      "source": [
        "# Operator 5.   /=\n",
        "num1 = 6\n",
        "num2 = 3\n",
        "num1 /= num2\n",
        "num1"
      ],
      "metadata": {
        "colab": {
          "base_uri": "https://localhost:8080/"
        },
        "id": "6FAJA84nVhKS",
        "outputId": "b2ddd79d-6600-40b5-bb47-10de96f374f8"
      },
      "execution_count": null,
      "outputs": [
        {
          "output_type": "execute_result",
          "data": {
            "text/plain": [
              "2.0"
            ]
          },
          "metadata": {},
          "execution_count": 39
        }
      ]
    },
    {
      "cell_type": "markdown",
      "source": [
        "Above in Operator 5: It divides the value of left-side operand by the value of right-side operand and assigns the result to left-side operand \n",
        "\n",
        "Note: x /= y is same as x = x / y"
      ],
      "metadata": {
        "id": "0_zEEJO5VwRo"
      }
    },
    {
      "cell_type": "code",
      "source": [
        "# Operator 6.   %=\n",
        "num1 = 7\n",
        "num2 = 3\n",
        "num1 %= num2\n",
        "num1"
      ],
      "metadata": {
        "colab": {
          "base_uri": "https://localhost:8080/"
        },
        "id": "jBMkx323WMrl",
        "outputId": "32a914dc-7342-48ac-c017-64ca766c3f41"
      },
      "execution_count": null,
      "outputs": [
        {
          "output_type": "execute_result",
          "data": {
            "text/plain": [
              "1"
            ]
          },
          "metadata": {},
          "execution_count": 40
        }
      ]
    },
    {
      "cell_type": "markdown",
      "source": [
        "Above in Operator 6: It performs modulus operation using two operands and assigns the result to left-side operand \n",
        "\n",
        "Note: x %= y is same as x = x % y"
      ],
      "metadata": {
        "id": "vJG8bv5BWeHc"
      }
    },
    {
      "cell_type": "code",
      "source": [
        "# Operator 7.   //=\n",
        "num1 = 7\n",
        "num2 = 3\n",
        "num1 //= num2\n",
        "num1"
      ],
      "metadata": {
        "colab": {
          "base_uri": "https://localhost:8080/"
        },
        "id": "KkqNuvc6Wll5",
        "outputId": "15d0c4db-9bae-440b-f20a-5e6ceea8a957"
      },
      "execution_count": null,
      "outputs": [
        {
          "output_type": "execute_result",
          "data": {
            "text/plain": [
              "2"
            ]
          },
          "metadata": {},
          "execution_count": 41
        }
      ]
    },
    {
      "cell_type": "markdown",
      "source": [
        "Above in Operator 7. It performs floor division using two operands and assigns the result to left-side operand \n",
        "\n",
        "Note: x //= y is same as x = x // y"
      ],
      "metadata": {
        "id": "zNL5lF6UWwN5"
      }
    },
    {
      "cell_type": "code",
      "source": [
        "# Operator 8.   **=\n",
        "num1 = 2\n",
        "num2 = 3\n",
        "num1 **= num2\n",
        "num1"
      ],
      "metadata": {
        "colab": {
          "base_uri": "https://localhost:8080/"
        },
        "id": "NfqREwf2W3wT",
        "outputId": "e9289952-e8d8-4e21-828b-a8d3dcd5cf45"
      },
      "execution_count": null,
      "outputs": [
        {
          "output_type": "execute_result",
          "data": {
            "text/plain": [
              "8"
            ]
          },
          "metadata": {},
          "execution_count": 42
        }
      ]
    },
    {
      "cell_type": "markdown",
      "source": [
        "Above in Operator 8. It performs exponential (power) calculation on operators and assigns value to the left-side operand \n",
        "\n",
        "Note: x **= y is same as x = x ** y"
      ],
      "metadata": {
        "id": "AREum0GnXDLX"
      }
    },
    {
      "cell_type": "markdown",
      "source": [
        "# Logical Operators"
      ],
      "metadata": {
        "id": "5t-csOak8fqu"
      }
    },
    {
      "cell_type": "code",
      "source": [
        "# Operator 1.   and\n",
        "\n",
        "print(True and True)\n",
        "\n",
        "num1 = 10\n",
        "num2 = -20\n",
        "print(bool(num1 and num2))\n",
        "\n",
        "print(True and False)\n",
        "\n",
        "num3 = 0\n",
        "print(bool(num1 and num3))\n",
        "\n",
        "print(False and False)"
      ],
      "metadata": {
        "colab": {
          "base_uri": "https://localhost:8080/"
        },
        "id": "kZ5nHLAs8m9E",
        "outputId": "5dfcccae-76d4-4aeb-c77f-578eb67a5455"
      },
      "execution_count": null,
      "outputs": [
        {
          "output_type": "stream",
          "name": "stdout",
          "text": [
            "True\n",
            "True\n",
            "False\n",
            "False\n",
            "False\n"
          ]
        }
      ]
    },
    {
      "cell_type": "markdown",
      "source": [
        "Above in Operator 1. If both the operands are True, then condition becomes True"
      ],
      "metadata": {
        "id": "IACC3PFz_AHC"
      }
    },
    {
      "cell_type": "code",
      "source": [
        "# Operator 2.   or\n",
        "print(True or True)\n",
        "print(True or False)\n",
        "print(False or False)\n",
        "print(bool(num1 or num3))"
      ],
      "metadata": {
        "colab": {
          "base_uri": "https://localhost:8080/"
        },
        "id": "Kb7Q8oDU-F5q",
        "outputId": "61435951-d220-4be6-ea2e-a6afe7f85c64"
      },
      "execution_count": null,
      "outputs": [
        {
          "output_type": "stream",
          "name": "stdout",
          "text": [
            "True\n",
            "True\n",
            "False\n",
            "True\n"
          ]
        }
      ]
    },
    {
      "cell_type": "markdown",
      "source": [
        "Above in Operator 2. If any of the two operands are True, then the condition becomes True"
      ],
      "metadata": {
        "id": "W8wZ70Lf_G4K"
      }
    },
    {
      "cell_type": "code",
      "source": [
        "#Operator 3.  not\n",
        "\n",
        "num1 = 10\n",
        "print(bool(num1))\n",
        "not num1"
      ],
      "metadata": {
        "colab": {
          "base_uri": "https://localhost:8080/"
        },
        "id": "q4dAw5uZ-kyb",
        "outputId": "4d85b6d4-269c-4def-c8dc-67cd728b18ef"
      },
      "execution_count": null,
      "outputs": [
        {
          "output_type": "stream",
          "name": "stdout",
          "text": [
            "True\n"
          ]
        },
        {
          "output_type": "execute_result",
          "data": {
            "text/plain": [
              "False"
            ]
          },
          "metadata": {},
          "execution_count": 45
        }
      ]
    },
    {
      "cell_type": "markdown",
      "source": [
        "Above in Operator 3. it is used to reverse the logical state of its operand"
      ],
      "metadata": {
        "id": "evEpXdHJ_cNM"
      }
    },
    {
      "cell_type": "markdown",
      "source": [
        "# Identity Operators\n",
        "Identity operators are used to determine whether the value of a variable is of a certain type or not. Identity operators can also be used to determine whether two variables are referring to the same object or not. There are two identity operators."
      ],
      "metadata": {
        "id": "b_qv84sp_jOf"
      }
    },
    {
      "cell_type": "code",
      "source": [
        "# Operator 1.   is\n",
        "num1 = 5\n",
        "print(type(num1) is int)\n",
        "\n",
        "num2 = num1\n",
        "print(id(num1))\n",
        "print(id(num2))\n",
        "\n",
        "print(num1 is num2)"
      ],
      "metadata": {
        "colab": {
          "base_uri": "https://localhost:8080/"
        },
        "id": "mRXcQ8bwAF3G",
        "outputId": "3c502de9-7856-41dc-dd41-44b80dd6f34c"
      },
      "execution_count": null,
      "outputs": [
        {
          "output_type": "stream",
          "name": "stdout",
          "text": [
            "True\n",
            "11126816\n",
            "11126816\n",
            "True\n"
          ]
        }
      ]
    },
    {
      "cell_type": "markdown",
      "source": [
        "Evaluates True if the variables on either side of the operator point towards the same memory location and False otherwise. var1 is var2 results to True if id(var1) is equal to id(var2)"
      ],
      "metadata": {
        "id": "qbVfh7HkAmo5"
      }
    },
    {
      "cell_type": "code",
      "source": [
        "# Operator 2.   is not\n",
        "num1 is not num2"
      ],
      "metadata": {
        "colab": {
          "base_uri": "https://localhost:8080/"
        },
        "id": "Tac_3fLWAozd",
        "outputId": "c321b2a0-7931-4fa8-9ced-59fdf60f45b2"
      },
      "execution_count": null,
      "outputs": [
        {
          "output_type": "execute_result",
          "data": {
            "text/plain": [
              "False"
            ]
          },
          "metadata": {},
          "execution_count": 47
        }
      ]
    },
    {
      "cell_type": "markdown",
      "source": [
        "Evaluates to False if the variables on either side of the operator point to the same memory location and True otherwise. var1 is not var2 results to True if id(var1) is not equal to id(var2)"
      ],
      "metadata": {
        "id": "dEK0aL6YAwkb"
      }
    },
    {
      "cell_type": "markdown",
      "source": [
        "# Membership Operators\n",
        "Membership operators are used to check if a value is a member of the given sequence or not."
      ],
      "metadata": {
        "id": "qgIM4heDAz_5"
      }
    },
    {
      "cell_type": "code",
      "source": [
        "# Operator 1.   in\n",
        "a = [1,2,3]\n",
        "print(2 in a)\n",
        "print('1' in a)"
      ],
      "metadata": {
        "colab": {
          "base_uri": "https://localhost:8080/"
        },
        "id": "_PqUfS_BCzW0",
        "outputId": "ddde7123-c2b5-4f9a-cc00-af7efb8ff8fd"
      },
      "execution_count": null,
      "outputs": [
        {
          "output_type": "stream",
          "name": "stdout",
          "text": [
            "True\n",
            "False\n"
          ]
        }
      ]
    },
    {
      "cell_type": "markdown",
      "source": [
        "Returns True if the variable/value is found in the specified sequence and False otherwise"
      ],
      "metadata": {
        "id": "Odnk34T4DEyr"
      }
    },
    {
      "cell_type": "code",
      "source": [
        "# Operator 2.   not in\n",
        "a = [1,2,3]\n",
        "print(10 not in a)\n",
        "print(1 not in a)"
      ],
      "metadata": {
        "colab": {
          "base_uri": "https://localhost:8080/"
        },
        "id": "h8UQBYvRDJ3t",
        "outputId": "58d0e684-93aa-40be-eb42-1332b64c76b5"
      },
      "execution_count": null,
      "outputs": [
        {
          "output_type": "stream",
          "name": "stdout",
          "text": [
            "True\n",
            "False\n"
          ]
        }
      ]
    },
    {
      "cell_type": "markdown",
      "source": [
        "# Precedence of Operators"
      ],
      "metadata": {
        "id": "IaSySDgzgh_5"
      }
    },
    {
      "cell_type": "code",
      "source": [
        "# Example 5.9\n",
        "# How will python evaluate the following expression?\n",
        "\n",
        "20 + 30 * 40\n",
        "\n",
        "# Soltuion: \n",
        "#      Step 1: 20 + (30 * 40)\n",
        "#      Step 2: 20 + 1200"
      ],
      "metadata": {
        "colab": {
          "base_uri": "https://localhost:8080/"
        },
        "id": "os-gf9zJh79w",
        "outputId": "c7a1741d-03bc-4750-ddb8-6aa0093c347e"
      },
      "execution_count": null,
      "outputs": [
        {
          "output_type": "execute_result",
          "data": {
            "text/plain": [
              "1220"
            ]
          },
          "metadata": {},
          "execution_count": 3
        }
      ]
    },
    {
      "cell_type": "code",
      "source": [
        "Example5_10 = 20 - 30 + 40\n",
        "Example5_11 = (20 + 30) * 40\n",
        "Example5_12 = 15.0 / 4 + (8.0 + 3.0)\n",
        "\n",
        "print(Example5_10)\n",
        "print(Example5_11)\n",
        "print(Example5_12)"
      ],
      "metadata": {
        "colab": {
          "base_uri": "https://localhost:8080/"
        },
        "id": "0rQYttcejNcX",
        "outputId": "e77af8fe-e7dc-46f8-dc6d-92974d577c13"
      },
      "execution_count": null,
      "outputs": [
        {
          "output_type": "stream",
          "name": "stdout",
          "text": [
            "30\n",
            "2000\n",
            "14.75\n"
          ]
        }
      ]
    },
    {
      "cell_type": "markdown",
      "source": [
        "# Statement\n",
        "\n",
        "In Python, a statement is a unit of code that the Python interpreter can execute."
      ],
      "metadata": {
        "id": "G97hzhMCj8hD"
      }
    },
    {
      "cell_type": "code",
      "source": [
        "x = 4   #Assignment Statement\n",
        "cube = x ** 3   #Assignment Statement\n",
        "print(x, cube)  #Print Statement"
      ],
      "metadata": {
        "id": "3a11nRrIkKci"
      },
      "execution_count": null,
      "outputs": []
    },
    {
      "cell_type": "markdown",
      "source": [
        "# Input and Output"
      ],
      "metadata": {
        "id": "DgczaXXAkdR-"
      }
    },
    {
      "cell_type": "code",
      "source": [
        "# Example 5.14\n",
        "\n",
        "name = input(\"Enter your first name: \")\n",
        "age = input(\"Enter your age: \")\n",
        "type(age)"
      ],
      "metadata": {
        "colab": {
          "base_uri": "https://localhost:8080/"
        },
        "id": "S4_2OHajktl_",
        "outputId": "1f12fe9e-f0b0-46cc-b80c-eadb445a2e12"
      },
      "execution_count": null,
      "outputs": [
        {
          "name": "stdout",
          "output_type": "stream",
          "text": [
            "Enter your first name: Dhananjay\n",
            "Enter your age: 16\n"
          ]
        },
        {
          "output_type": "execute_result",
          "data": {
            "text/plain": [
              "str"
            ]
          },
          "metadata": {},
          "execution_count": 8
        }
      ]
    },
    {
      "cell_type": "markdown",
      "source": [
        "In the above program, the variable name will get the string ‘Arnab’, entered by the user. Similarly, the variable age will get the string ‘19’. We can typecast or change the datatype of the string data accepted from user to an appropriate numeric value. For example, the following statement will convert the accepted string to an integer. If the user enters any non-numeric value, an error will be generated."
      ],
      "metadata": {
        "id": "OrXC7qk-lMNw"
      }
    },
    {
      "cell_type": "code",
      "source": [
        "# Example 5.15\n",
        "# Function int() to convert string to integer\n",
        "\n",
        "age = int(input(\"Enter your age: \"))\n",
        "type(age)"
      ],
      "metadata": {
        "colab": {
          "base_uri": "https://localhost:8080/"
        },
        "id": "FuVxCFkqlVq-",
        "outputId": "dbb3c545-9c5c-4460-959d-e01c25d45877"
      },
      "execution_count": null,
      "outputs": [
        {
          "name": "stdout",
          "output_type": "stream",
          "text": [
            "Enter your age: 16\n"
          ]
        },
        {
          "output_type": "execute_result",
          "data": {
            "text/plain": [
              "int"
            ]
          },
          "metadata": {},
          "execution_count": 9
        }
      ]
    },
    {
      "cell_type": "markdown",
      "source": [
        "In the above program, ***int()*** is added to convert string to integer"
      ],
      "metadata": {
        "id": "KDZI068llpgZ"
      }
    },
    {
      "cell_type": "markdown",
      "source": [
        "# Type Conversion"
      ],
      "metadata": {
        "id": "BHTTUnoYmexu"
      }
    },
    {
      "cell_type": "code",
      "source": [
        "# Program 5 - 5\n",
        "# Program of explicit type conversion from int to float\n",
        "\n",
        "num1 = 10\n",
        "num2 = 20\n",
        "num3 = num1 + num2\n",
        "num4 = float(num1 + num2)\n",
        "\n",
        "print(num3)\n",
        "print('num3 belongs to', (type(num3)))\n",
        "\n",
        "print('')\n",
        "\n",
        "print(num4)\n",
        "print('num4 belongs to', (type(num4)))"
      ],
      "metadata": {
        "colab": {
          "base_uri": "https://localhost:8080/"
        },
        "id": "mdMw-wj2mkZo",
        "outputId": "655adf56-d337-4cfe-de39-25773c295b82"
      },
      "execution_count": null,
      "outputs": [
        {
          "output_type": "stream",
          "name": "stdout",
          "text": [
            "30\n",
            "num3 is <class 'int'>\n",
            "\n",
            "30.0\n",
            "num4 is <class 'float'>\n"
          ]
        }
      ]
    },
    {
      "cell_type": "code",
      "source": [
        "# Program 5 - 6\n",
        "# Program of explicit type conversion from float to int\n",
        "\n",
        "num1 = 10.2\n",
        "num2 = 20.6\n",
        "num3 = (num1 + num2)\n",
        "num4 = int(num1 + num2)\n",
        "\n",
        "print(num3)\n",
        "print('num3 belongs to', (type(num3)))\n",
        "\n",
        "print('')\n",
        "\n",
        "print(num4)\n",
        "print('num4 belongs to', (type(num4)))"
      ],
      "metadata": {
        "colab": {
          "base_uri": "https://localhost:8080/"
        },
        "id": "EfGvvZMCnRix",
        "outputId": "6d294144-426b-4bf3-be36-32a7cf16f933"
      },
      "execution_count": null,
      "outputs": [
        {
          "output_type": "stream",
          "name": "stdout",
          "text": [
            "30.8\n",
            "num3 belongs to <class 'float'>\n",
            "\n",
            "30\n",
            "num4 belongs to <class 'int'>\n"
          ]
        }
      ]
    },
    {
      "cell_type": "code",
      "source": [
        "# Program 5 - 7\n",
        "# Example of type conversion between numbers and strings\n",
        "\n",
        "priceIceCream = 25\n",
        "priceBrownie = 45\n",
        "totalPrice = priceIceCream + priceBrownie\n",
        "print('The total is Rs. ' + str(totalPrice)) "
      ],
      "metadata": {
        "colab": {
          "base_uri": "https://localhost:8080/"
        },
        "id": "TI1aPa8OnvPS",
        "outputId": "989d6797-ff32-4120-b131-13547ce62de3"
      },
      "execution_count": null,
      "outputs": [
        {
          "output_type": "stream",
          "name": "stdout",
          "text": [
            "The total is Rs. 70\n"
          ]
        }
      ]
    },
    {
      "cell_type": "code",
      "source": [],
      "metadata": {
        "id": "oeb9vdUZoqXl"
      },
      "execution_count": null,
      "outputs": []
    },
    {
      "cell_type": "markdown",
      "source": [
        "# Exam mark total score calculator\n",
        "When the marks of each subject entered into the program, it will calculate your total marks out of 500 and give the overall percentage you have scored for the exam.\n",
        "\n",
        "Program developer: Dhananjay M.R"
      ],
      "metadata": {
        "id": "WstIjCq4Dju7"
      }
    },
    {
      "cell_type": "code",
      "source": [
        "Math = float(input('Enter the marks scored in Math exam: '))\n",
        "Physics = float(input('Enter the marks scored in Physics exam: '))\n",
        "Chemistry = float(input('Enter the marks scored in Chemistry Exam: '))\n",
        "English = float(input('Enter the marks scored in English exam: '))\n",
        "ComputerScience = float(input('Enter the marks scored in Computer Science exam: '))\n",
        "\n",
        "Total = Math + Physics + Chemistry + English + ComputerScience\n",
        "Average = Total/5\n",
        "\n",
        "print('')\n",
        "print('Your total score out of 500 is: ', Total)\n",
        "print('Your have scored', Average, '%' ' in this exam')"
      ],
      "metadata": {
        "id": "a7iEYHiYDm10",
        "colab": {
          "base_uri": "https://localhost:8080/"
        },
        "outputId": "2e515ae1-53f9-46da-8b07-1f6b848199f2"
      },
      "execution_count": null,
      "outputs": [
        {
          "output_type": "stream",
          "name": "stdout",
          "text": [
            "Enter the marks scored in Math exam: 100\n",
            "Enter the marks scored in Physics exam: 100\n",
            "Enter the marks scored in Chemistry Exam: 100\n",
            "Enter the marks scored in English exam: 75\n",
            "Enter the marks scored in Computer Science exam: 75\n",
            "\n",
            "Your total score out of 500 is:  450.0\n",
            "Your have scored 90.0 % in this exam\n"
          ]
        }
      ]
    },
    {
      "cell_type": "markdown",
      "source": [
        "# Simple Interest Calculator\n",
        "\n",
        "Based on the input value of Principal Amount, Rate of Interest and Time duration, this program calculator calculates the simple interest\n",
        "\n",
        "Program Developed by: Dhananjay M.R"
      ],
      "metadata": {
        "id": "IdbFaCakE4QG"
      }
    },
    {
      "cell_type": "code",
      "source": [
        "Amount=int(input(\"Enter the amount: \"))\n",
        "Year=int(input(\"Enter the number of years: \"))\n",
        "Rate=float(input(\"Enter the rate of interest: \"))\n",
        "\n",
        "SimpleInterset=(Amount*Year*Rate)/100\n",
        "    \n",
        "print(\"The simple interset is: \",SimpleInterset)"
      ],
      "metadata": {
        "colab": {
          "base_uri": "https://localhost:8080/"
        },
        "id": "BQWZB7fCE8it",
        "outputId": "5268c38a-cc87-494a-8fe5-2f6d7fa06b9c"
      },
      "execution_count": null,
      "outputs": [
        {
          "output_type": "stream",
          "name": "stdout",
          "text": [
            "Enter the amount: 24000\n",
            "Enter the number of years: 10\n",
            "Enter the rate of interest: 3\n",
            "The simple interset is:  7200.0\n"
          ]
        }
      ]
    }
  ]
}