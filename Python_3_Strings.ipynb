{
  "nbformat": 4,
  "nbformat_minor": 0,
  "metadata": {
    "colab": {
      "provenance": [],
      "toc_visible": true,
      "authorship_tag": "ABX9TyOlCqdH7xmDhPSnLwkZ28Yp",
      "include_colab_link": true
    },
    "kernelspec": {
      "name": "python3",
      "display_name": "Python 3"
    },
    "language_info": {
      "name": "python"
    },
    "gpuClass": "standard",
    "accelerator": "TPU"
  },
  "cells": [
    {
      "cell_type": "markdown",
      "metadata": {
        "id": "view-in-github",
        "colab_type": "text"
      },
      "source": [
        "<a href=\"https://colab.research.google.com/github/dhananjay-m-r/Python-basics/blob/main/Python_3_Strings.ipynb\" target=\"_parent\"><img src=\"https://colab.research.google.com/assets/colab-badge.svg\" alt=\"Open In Colab\"/></a>"
      ]
    },
    {
      "cell_type": "markdown",
      "source": [
        "#About this notebook\n",
        "\n",
        "Notebook made by: Dhananjay M.R\n",
        "\n",
        "Subject: Computer Science - Grade 11 CBSE\n",
        "\n",
        "Language: - Python\n",
        "\n",
        "Topic: Intext Examples with Explanation - Strings\n",
        "\n",
        "Execution mode: Script Mode"
      ],
      "metadata": {
        "id": "jWUVBYzA2os2"
      }
    },
    {
      "cell_type": "markdown",
      "source": [
        "#Strings\n",
        "String is a sequence which is made up of one or more UNICODE characters. Here the character can be a letter, digit, whitespace or any other symbol. A string can be created by enclosing one or more characters in single, double or triple quote."
      ],
      "metadata": {
        "id": "usXih60L28nQ"
      }
    },
    {
      "cell_type": "markdown",
      "source": [
        "#Example 8.1"
      ],
      "metadata": {
        "id": "qslFCril3HpU"
      }
    },
    {
      "cell_type": "code",
      "source": [
        "str1 = 'Hello World!'\n",
        "str2 = \"Hello World!\"\n",
        "str3 = \"\"\"Hello World!\"\"\"\n",
        "str4 = '''Hello World!'''"
      ],
      "metadata": {
        "id": "6PpmaqRu3K1K"
      },
      "execution_count": 4,
      "outputs": []
    },
    {
      "cell_type": "markdown",
      "source": [
        "`str1, str2, str3, str4` are all string variables having the same value `'Hello World!'`. Values stored in `str3` and `str4` can be extended to multiple lines using triple codes as can be seen in the following example:"
      ],
      "metadata": {
        "id": "DI_340kV3qMb"
      }
    },
    {
      "cell_type": "code",
      "source": [
        "str3 = \"\"\"Hello World!\n",
        "welcome to the world of Python\"\"\"\n",
        "\n",
        "str4 = '''Hello World!\n",
        "welcome to the world of Python'''"
      ],
      "metadata": {
        "id": "W_nNygN131-M"
      },
      "execution_count": 5,
      "outputs": []
    },
    {
      "cell_type": "markdown",
      "source": [
        "#Accessing Characters in a String \n",
        "Each individual character in a string can be accessed using a technique called indexing. The index specifies the character to be accessed in the string and is written in square brackets (`[ ]`). The index of the first character (from left) in the string is 0 and the last character is n-1 where n is the length of the string. If we give index value out of this range then we get an IndexError. The index must be an integer (positive, zero or negative)."
      ],
      "metadata": {
        "id": "CYA8F6Dy4FFC"
      }
    },
    {
      "cell_type": "code",
      "source": [
        "#initializes a string str1\n",
        "str1 = 'Hello World!'\n",
        "\n",
        "#gives the first character of str1\n",
        "print('first character of str1:')   #Optional Statement\n",
        "print(str1[0])\n",
        "print('')   #Optional statement, to leave a line gap\n",
        "\n",
        "#gives seventh character of str1\n",
        "print('seventh character of str1:')  #Optional Statement\n",
        "print(str1[6])\n",
        "print('')   #Optional statement, to leave a line gap\n",
        "\n",
        "#gives last character of str1\n",
        "print('last character of str1:')    #Optional Statement\n",
        "print(str1[11])\n",
        "\n",
        "#gives error as index is out of range\n",
        "#str1[15]"
      ],
      "metadata": {
        "colab": {
          "base_uri": "https://localhost:8080/"
        },
        "id": "N3MmdqnQ4Wnj",
        "outputId": "2a22e9f4-3ee5-4d8c-c42d-58acf184862c"
      },
      "execution_count": 6,
      "outputs": [
        {
          "output_type": "stream",
          "name": "stdout",
          "text": [
            "first character of str1:\n",
            "H\n",
            "\n",
            "seventh character of str1:\n",
            "W\n",
            "\n",
            "last character of str1:\n",
            "!\n"
          ]
        }
      ]
    },
    {
      "cell_type": "markdown",
      "source": [
        "The index can also be an expression including variables and operators but the expression must evaluate to an integer."
      ],
      "metadata": {
        "id": "XSZ7svsi5C1i"
      }
    },
    {
      "cell_type": "code",
      "source": [
        "str1 = 'Hello World!'\n",
        "str1[2+4]"
      ],
      "metadata": {
        "colab": {
          "base_uri": "https://localhost:8080/",
          "height": 35
        },
        "id": "qRbn6tHa5GDV",
        "outputId": "1436a910-5357-415a-dd29-cbb391e7cf27"
      },
      "execution_count": 7,
      "outputs": [
        {
          "output_type": "execute_result",
          "data": {
            "text/plain": [
              "'W'"
            ],
            "application/vnd.google.colaboratory.intrinsic+json": {
              "type": "string"
            }
          },
          "metadata": {},
          "execution_count": 7
        }
      ]
    },
    {
      "cell_type": "markdown",
      "source": [
        "Python allows an index value to be negative also. Negative indices are used when we want to access the characters of the string from right to left. Starting from right hand side, the first character has the index as -1 and the last character has the index –n where n is the length of the string."
      ],
      "metadata": {
        "id": "eakg2Im65Pz8"
      }
    },
    {
      "cell_type": "code",
      "source": [
        "#initializes a string str1\n",
        "str1 = 'Hello World!'\n",
        "\n",
        "print(str1[-1])   #gives first character from right\n",
        "print(str1[-12])  #gives last character from right"
      ],
      "metadata": {
        "colab": {
          "base_uri": "https://localhost:8080/"
        },
        "id": "_sXxxZ8c5Vpi",
        "outputId": "34931469-99b8-4183-b4bd-32109c074d1d"
      },
      "execution_count": 8,
      "outputs": [
        {
          "output_type": "stream",
          "name": "stdout",
          "text": [
            "!\n",
            "H\n"
          ]
        }
      ]
    },
    {
      "cell_type": "markdown",
      "source": [
        "An inbuilt function `len()` in Python returns the length of the string that is passed as parameter."
      ],
      "metadata": {
        "id": "ngJ2fCko5yAB"
      }
    },
    {
      "cell_type": "code",
      "source": [
        "#initializes a string str1\n",
        "str1 = 'Hello World!'\n",
        "\n",
        "#gives the length of the string str1\n",
        "print('length of the string str1:')  #Optional Statement\n",
        "print(len(str1))\n",
        "print('')   #Optional statement, to leave a line gap\n",
        "\n",
        "#length of the string is assigned to n\n",
        "print('length of the string is assigned to n:')    #Optional Statement\n",
        "n = len(str1)\n",
        "print(n)\n",
        "print('')   #Optional statement, to leave a line gap\n",
        "\n",
        "#gives the last character of the string\n",
        "print('last character of the string:')    #Optional Statement\n",
        "print(str1[n-1])\n",
        "print('')   #Optional statement, to leave a line gap\n",
        "\n",
        "#gives the first character of the string\n",
        "print('first character of the string:')   #Optional Statement\n",
        "print(str1[-n])"
      ],
      "metadata": {
        "colab": {
          "base_uri": "https://localhost:8080/"
        },
        "id": "Z8cp4QTW6EyN",
        "outputId": "3023b758-8444-42f2-82ad-811ae4684c6b"
      },
      "execution_count": 9,
      "outputs": [
        {
          "output_type": "stream",
          "name": "stdout",
          "text": [
            "length of the string str1:\n",
            "12\n",
            "\n",
            "length of the string is assigned to n:\n",
            "12\n",
            "\n",
            "last character of the string:\n",
            "!\n",
            "\n",
            "first character of the string:\n",
            "H\n"
          ]
        }
      ]
    },
    {
      "cell_type": "markdown",
      "source": [
        "# String is Immutable\n",
        "A string is an immutable data type. It means that the contents of the string cannot be changed after it has been created. An attempt to do this would lead to an error.\n",
        "```\n",
        ">>> str1 = \"Hello World!\"\n",
        "#if we try to replace character 'e' with 'a'\n",
        ">>> str1[1] = 'a'\n",
        "TypeError: 'str' object does not support item assignment\n",
        "```"
      ],
      "metadata": {
        "id": "GYF6s08e7m2O"
      }
    },
    {
      "cell_type": "markdown",
      "source": [
        "# String Operations\n",
        "\n",
        "As we know that string is a sequence of characters. Python allows certain operations on string data type, such as:\n",
        "*   Concatenation\n",
        "*   Repetition\n",
        "*   Membership\n",
        "*   Slicing"
      ],
      "metadata": {
        "id": "A2dE0HW18KLn"
      }
    },
    {
      "cell_type": "markdown",
      "source": [
        "# Concatenation\n",
        "To concatenate means to join. Python allows us to join two strings using concatenation operator plus which is denoted by symbol +"
      ],
      "metadata": {
        "id": "eFEbzphn82g4"
      }
    },
    {
      "cell_type": "code",
      "source": [
        "str1 = 'Hello '   #First String\n",
        "str2 = 'World'    #Second String\n",
        "\n",
        "print('The concated string is:')    #Optional statement\n",
        "print(str1 + str2)   #Concated strings\n",
        "print('')   #Optional statement, to leave a line gap\n",
        "\n",
        "#After the operation str1 and str2 remain the same\n",
        "print('After the operation str1 and str2 remains the same')\n",
        "print('')   #Optional statement, to leave a line gap\n",
        "\n",
        "print('str1 is:')   #Optional statement\n",
        "print(str1)\n",
        "\n",
        "print('')   #Optional statement, to leave a line gap\n",
        "\n",
        "print('str2 is:')   #Optional statement\n",
        "print(str2)"
      ],
      "metadata": {
        "colab": {
          "base_uri": "https://localhost:8080/"
        },
        "id": "aMBn55Oh9FD5",
        "outputId": "17b38226-811e-4bc2-97cb-e8299e164cf4"
      },
      "execution_count": 10,
      "outputs": [
        {
          "output_type": "stream",
          "name": "stdout",
          "text": [
            "The concated string is:\n",
            "Hello World\n",
            "\n",
            "After the operation str1 and str2 remains the same\n",
            "\n",
            "str1 is:\n",
            "Hello \n",
            "\n",
            "str2 is:\n",
            "World\n"
          ]
        }
      ]
    },
    {
      "cell_type": "markdown",
      "source": [
        "# Repetition\n",
        "Python allows us to repeat the given string using repetition operator which is denoted by symbol *"
      ],
      "metadata": {
        "id": "9bk62AvW-EEU"
      }
    },
    {
      "cell_type": "code",
      "source": [
        "#assign string 'Hello' to str1\n",
        "str1 = 'Hello ' \n",
        "\n",
        "#repeat the value of str1 2 times \n",
        "str1 * 2"
      ],
      "metadata": {
        "colab": {
          "base_uri": "https://localhost:8080/",
          "height": 35
        },
        "id": "ZqtqTkF6-P5J",
        "outputId": "31917865-0ec5-499d-9084-8237944b7695"
      },
      "execution_count": 11,
      "outputs": [
        {
          "output_type": "execute_result",
          "data": {
            "text/plain": [
              "'Hello Hello '"
            ],
            "application/vnd.google.colaboratory.intrinsic+json": {
              "type": "string"
            }
          },
          "metadata": {},
          "execution_count": 11
        }
      ]
    },
    {
      "cell_type": "code",
      "source": [
        "#assign string 'Hello' to str1\n",
        "str1 = 'Hello ' \n",
        "\n",
        "#repeat the value of str1 5 times \n",
        "str1 * 5"
      ],
      "metadata": {
        "colab": {
          "base_uri": "https://localhost:8080/",
          "height": 35
        },
        "id": "qcX8CwjL-jkY",
        "outputId": "b5ed60ca-e1a3-4b7e-c164-e05022e33eb5"
      },
      "execution_count": 12,
      "outputs": [
        {
          "output_type": "execute_result",
          "data": {
            "text/plain": [
              "'Hello Hello Hello Hello Hello '"
            ],
            "application/vnd.google.colaboratory.intrinsic+json": {
              "type": "string"
            }
          },
          "metadata": {},
          "execution_count": 12
        }
      ]
    },
    {
      "cell_type": "markdown",
      "source": [
        "# Membership\n",
        "Python has two membership operators `in` and `not in`. The `in` operator takes two strings and returns `True` if the first string appears as a substring in the second string, otherwise it returns `False`."
      ],
      "metadata": {
        "id": "MNnkcVvJ-vwK"
      }
    },
    {
      "cell_type": "code",
      "source": [
        "str1 = 'Hello World!'\n",
        "'W' in str1"
      ],
      "metadata": {
        "colab": {
          "base_uri": "https://localhost:8080/"
        },
        "id": "9YR4Tr_G_HM3",
        "outputId": "e6bbdfa1-11c1-4389-d4d6-66e753836cfd"
      },
      "execution_count": 13,
      "outputs": [
        {
          "output_type": "execute_result",
          "data": {
            "text/plain": [
              "True"
            ]
          },
          "metadata": {},
          "execution_count": 13
        }
      ]
    },
    {
      "cell_type": "code",
      "source": [
        "str1 = 'Hello World!'\n",
        "'Wor' in str1"
      ],
      "metadata": {
        "colab": {
          "base_uri": "https://localhost:8080/"
        },
        "id": "LOPac6MY_X6j",
        "outputId": "ec699fe6-1dd4-4a04-b9f8-2a59bbe3b9ce"
      },
      "execution_count": 14,
      "outputs": [
        {
          "output_type": "execute_result",
          "data": {
            "text/plain": [
              "True"
            ]
          },
          "metadata": {},
          "execution_count": 14
        }
      ]
    },
    {
      "cell_type": "code",
      "source": [
        "str1 = 'Hello World!'\n",
        "'My' in str1"
      ],
      "metadata": {
        "colab": {
          "base_uri": "https://localhost:8080/"
        },
        "id": "6jSRT1nW_Z-3",
        "outputId": "d718bc19-ab5e-441c-b0b1-88646f5330f0"
      },
      "execution_count": 15,
      "outputs": [
        {
          "output_type": "execute_result",
          "data": {
            "text/plain": [
              "False"
            ]
          },
          "metadata": {},
          "execution_count": 15
        }
      ]
    },
    {
      "cell_type": "markdown",
      "source": [
        "The `not in` operator also takes two strings and returns True if the first string does not appear as a substring in the second string, otherwise returns `False`"
      ],
      "metadata": {
        "id": "VWOjN__9_qUF"
      }
    },
    {
      "cell_type": "code",
      "source": [
        "str1 = 'Hello World!'\n",
        "'My' not in str1"
      ],
      "metadata": {
        "colab": {
          "base_uri": "https://localhost:8080/"
        },
        "id": "_EnElrjP_ap3",
        "outputId": "b082167d-303a-4be0-91ad-2aa0fa834355"
      },
      "execution_count": 16,
      "outputs": [
        {
          "output_type": "execute_result",
          "data": {
            "text/plain": [
              "True"
            ]
          },
          "metadata": {},
          "execution_count": 16
        }
      ]
    },
    {
      "cell_type": "code",
      "source": [
        "str1 = 'Hello World!'\n",
        "'Hello' not in str1"
      ],
      "metadata": {
        "colab": {
          "base_uri": "https://localhost:8080/"
        },
        "id": "AbBZ4t-A_kKG",
        "outputId": "d36a8c31-d7d2-42a5-9d0b-c3aa8648c995"
      },
      "execution_count": 17,
      "outputs": [
        {
          "output_type": "execute_result",
          "data": {
            "text/plain": [
              "False"
            ]
          },
          "metadata": {},
          "execution_count": 17
        }
      ]
    },
    {
      "cell_type": "markdown",
      "source": [
        "# Slicing\n",
        "In Python, to access some part of a string or substring, we use a method called slicing. This can be done by specifying an index range. \n",
        "\n",
        "Given a string `str1`, the slice operation `str1[n:m]` returns the part of the string `str1` starting from index n (inclusive) and ending at m (exclusive). \n",
        "\n",
        " In other words, we can say that `str1[n:m]` returns all the characters starting from `str1[n]` till `str1[m-1]`. The numbers of characters in the substring will always be equal to difference of two indices m and n, i.e., (m-n)."
      ],
      "metadata": {
        "id": "Fy34x98V_6lf"
      }
    },
    {
      "cell_type": "code",
      "source": [
        "str1 = 'Hello World!'\n",
        "\n",
        "#gives substring starting from index 1 to 4\n",
        "str1[1:5]"
      ],
      "metadata": {
        "colab": {
          "base_uri": "https://localhost:8080/",
          "height": 35
        },
        "id": "KPydntXgAY_6",
        "outputId": "cde3d4a8-8477-4624-d222-681328d554eb"
      },
      "execution_count": 18,
      "outputs": [
        {
          "output_type": "execute_result",
          "data": {
            "text/plain": [
              "'ello'"
            ],
            "application/vnd.google.colaboratory.intrinsic+json": {
              "type": "string"
            }
          },
          "metadata": {},
          "execution_count": 18
        }
      ]
    },
    {
      "cell_type": "code",
      "source": [
        "str1 = 'Hello World!'\n",
        "\n",
        "#gives substring starting from 7 to 9\n",
        "str1[7:10]"
      ],
      "metadata": {
        "colab": {
          "base_uri": "https://localhost:8080/",
          "height": 35
        },
        "id": "CrkCyf79Ai-5",
        "outputId": "4260b561-e7c7-4019-b5a2-d95eb76a10a8"
      },
      "execution_count": 19,
      "outputs": [
        {
          "output_type": "execute_result",
          "data": {
            "text/plain": [
              "'orl'"
            ],
            "application/vnd.google.colaboratory.intrinsic+json": {
              "type": "string"
            }
          },
          "metadata": {},
          "execution_count": 19
        }
      ]
    },
    {
      "cell_type": "markdown",
      "source": [
        "If the first index is not mentioned, the slice starts from index. "
      ],
      "metadata": {
        "id": "2NOPMyGcA7Rf"
      }
    },
    {
      "cell_type": "code",
      "source": [
        "str1 = 'Hello World!'\n",
        "\n",
        "#gives substring from index 0 to 4\n",
        "str1[:5]"
      ],
      "metadata": {
        "colab": {
          "base_uri": "https://localhost:8080/",
          "height": 35
        },
        "id": "UzotkkOAA_Wi",
        "outputId": "b5e3114d-8bd9-4d9b-c7a3-e48c137744d1"
      },
      "execution_count": 20,
      "outputs": [
        {
          "output_type": "execute_result",
          "data": {
            "text/plain": [
              "'Hello'"
            ],
            "application/vnd.google.colaboratory.intrinsic+json": {
              "type": "string"
            }
          },
          "metadata": {},
          "execution_count": 20
        }
      ]
    },
    {
      "cell_type": "markdown",
      "source": [
        "If the second index is not mentioned, the slicing is done till the length of the string."
      ],
      "metadata": {
        "id": "QzpRVmRkBHLX"
      }
    },
    {
      "cell_type": "code",
      "source": [
        "str1 = 'Hello World!'\n",
        "\n",
        "#gives substring from index 6 to end\n",
        "str1[6:]"
      ],
      "metadata": {
        "colab": {
          "base_uri": "https://localhost:8080/",
          "height": 35
        },
        "id": "Ac6F3_UzBKWF",
        "outputId": "cdf54a74-96dd-4cca-a3e4-16c29d6974f2"
      },
      "execution_count": 21,
      "outputs": [
        {
          "output_type": "execute_result",
          "data": {
            "text/plain": [
              "'World!'"
            ],
            "application/vnd.google.colaboratory.intrinsic+json": {
              "type": "string"
            }
          },
          "metadata": {},
          "execution_count": 21
        }
      ]
    },
    {
      "cell_type": "markdown",
      "source": [
        "The slice operation can also take a third index that specifies the ‘step size’. For example, `str1[n:m:k]`, means every kth character has to be extracted from the string `str1` starting from n and ending at m-1. By default, the step size is one."
      ],
      "metadata": {
        "id": "Wcl8becxBSMP"
      }
    },
    {
      "cell_type": "code",
      "source": [
        "str1 = 'Hello World!'\n",
        "str1[0:10:2]"
      ],
      "metadata": {
        "colab": {
          "base_uri": "https://localhost:8080/",
          "height": 35
        },
        "id": "xbbtQckRBawy",
        "outputId": "51799165-394e-40c2-ebe3-ba7ce33d14c8"
      },
      "execution_count": 22,
      "outputs": [
        {
          "output_type": "execute_result",
          "data": {
            "text/plain": [
              "'HloWr'"
            ],
            "application/vnd.google.colaboratory.intrinsic+json": {
              "type": "string"
            }
          },
          "metadata": {},
          "execution_count": 22
        }
      ]
    },
    {
      "cell_type": "code",
      "source": [
        "str1 = 'Hello World!'\n",
        "str1[0:10:3]"
      ],
      "metadata": {
        "colab": {
          "base_uri": "https://localhost:8080/",
          "height": 35
        },
        "id": "0-pHKgHgBb__",
        "outputId": "9533caa0-5439-457e-f60d-1fa2df8da1ba"
      },
      "execution_count": 23,
      "outputs": [
        {
          "output_type": "execute_result",
          "data": {
            "text/plain": [
              "'HlWl'"
            ],
            "application/vnd.google.colaboratory.intrinsic+json": {
              "type": "string"
            }
          },
          "metadata": {},
          "execution_count": 23
        }
      ]
    },
    {
      "cell_type": "markdown",
      "source": [
        "# Transversing a string\n",
        "We can access each character of a string or traverse a string using for loop and `while` loop."
      ],
      "metadata": {
        "id": "IjeFp1LcB1IK"
      }
    },
    {
      "cell_type": "markdown",
      "source": [
        "# (A) String Traversal Using `for` Loop: "
      ],
      "metadata": {
        "id": "zY-829MaB9_h"
      }
    },
    {
      "cell_type": "code",
      "source": [
        "str1 = 'Hello World!'\n",
        "\n",
        "for ch in str1:\n",
        "  print(ch,end = '')"
      ],
      "metadata": {
        "colab": {
          "base_uri": "https://localhost:8080/"
        },
        "id": "yJObUi9cCDt-",
        "outputId": "0e78bd37-5204-4f3f-a09f-670eb0b47e02"
      },
      "execution_count": 24,
      "outputs": [
        {
          "output_type": "stream",
          "name": "stdout",
          "text": [
            "Hello World!"
          ]
        }
      ]
    },
    {
      "cell_type": "markdown",
      "source": [
        "In the above code, the loop starts from the first character of the string `str1` and automatically ends when the last character is accessed."
      ],
      "metadata": {
        "id": "Jx5XSx25CKvU"
      }
    },
    {
      "cell_type": "markdown",
      "source": [
        "# (B) String Traversal Using `while` Loop:"
      ],
      "metadata": {
        "id": "tarZLymiCUEw"
      }
    },
    {
      "cell_type": "code",
      "source": [
        "str1 = 'Hello World!'\n",
        "\n",
        "index = 0\n",
        "#len(): a function to get length of string\n",
        "while  index < len(str1):\n",
        "  print(str1[index],end = '')\n",
        "  index += 1"
      ],
      "metadata": {
        "colab": {
          "base_uri": "https://localhost:8080/"
        },
        "id": "ZF5mmm46Ca3z",
        "outputId": "aa5e70e6-bfbe-4d39-93cb-2b657d73441a"
      },
      "execution_count": 25,
      "outputs": [
        {
          "output_type": "stream",
          "name": "stdout",
          "text": [
            "Hello World!"
          ]
        }
      ]
    },
    {
      "cell_type": "markdown",
      "source": [
        "Here `while` loop runs till the condition `index < len(str)` is `True`, where index varies from 0 to `len(str1)` -1."
      ],
      "metadata": {
        "id": "YD7wGrLrCrSl"
      }
    },
    {
      "cell_type": "markdown",
      "source": [
        "# -> Strings methods and built-in functions"
      ],
      "metadata": {
        "id": "dp4dulQ5eaTl"
      }
    },
    {
      "cell_type": "markdown",
      "source": [
        "# `len()`\n",
        "Returns the length of the given string"
      ],
      "metadata": {
        "id": "DxPXNXOjeLAA"
      }
    },
    {
      "cell_type": "code",
      "source": [
        "str1 = 'Hello World!'\n",
        "len(str1)"
      ],
      "metadata": {
        "colab": {
          "base_uri": "https://localhost:8080/"
        },
        "id": "5TVTHJoHeqVh",
        "outputId": "bcd86d9a-fc5f-4e31-9328-e7ea16a1eda8"
      },
      "execution_count": 26,
      "outputs": [
        {
          "output_type": "execute_result",
          "data": {
            "text/plain": [
              "12"
            ]
          },
          "metadata": {},
          "execution_count": 26
        }
      ]
    },
    {
      "cell_type": "markdown",
      "source": [
        "# `title()`\n",
        "Returns the string with first letter of every word in the string in uppercase and rest in lowercase"
      ],
      "metadata": {
        "id": "eZOTHbG9ezqw"
      }
    },
    {
      "cell_type": "code",
      "source": [
        "str1 = 'hello WORLD!'\n",
        "str1.title()"
      ],
      "metadata": {
        "colab": {
          "base_uri": "https://localhost:8080/",
          "height": 35
        },
        "id": "uCLKO6Zve79b",
        "outputId": "25b87282-d95f-4fb4-aefd-257af972d1cd"
      },
      "execution_count": 27,
      "outputs": [
        {
          "output_type": "execute_result",
          "data": {
            "text/plain": [
              "'Hello World!'"
            ],
            "application/vnd.google.colaboratory.intrinsic+json": {
              "type": "string"
            }
          },
          "metadata": {},
          "execution_count": 27
        }
      ]
    },
    {
      "cell_type": "markdown",
      "source": [
        "# `lower()`\n",
        "Returns the string with all uppercase letters converted to lowercase"
      ],
      "metadata": {
        "id": "Fm3LoXjbfCQ5"
      }
    },
    {
      "cell_type": "code",
      "source": [
        "str1 = 'hello WORLD!'\n",
        "str1.lower()"
      ],
      "metadata": {
        "colab": {
          "base_uri": "https://localhost:8080/",
          "height": 35
        },
        "id": "QzxhYdgAfLXg",
        "outputId": "803b2dae-c99f-4962-e169-465b2b180c0b"
      },
      "execution_count": 28,
      "outputs": [
        {
          "output_type": "execute_result",
          "data": {
            "text/plain": [
              "'hello world!'"
            ],
            "application/vnd.google.colaboratory.intrinsic+json": {
              "type": "string"
            }
          },
          "metadata": {},
          "execution_count": 28
        }
      ]
    },
    {
      "cell_type": "markdown",
      "source": [
        "# `upper()`\n",
        "Returns the string with all lowercase letters converted to uppercase"
      ],
      "metadata": {
        "id": "jOSE90eJfQqt"
      }
    },
    {
      "cell_type": "code",
      "source": [
        "str1 = 'hello WORLD!'\n",
        "str1.upper()"
      ],
      "metadata": {
        "colab": {
          "base_uri": "https://localhost:8080/",
          "height": 35
        },
        "id": "USJBtE_DfZZG",
        "outputId": "d9aed33a-d865-4ccf-a2c0-9fec3edbf68c"
      },
      "execution_count": 29,
      "outputs": [
        {
          "output_type": "execute_result",
          "data": {
            "text/plain": [
              "'HELLO WORLD!'"
            ],
            "application/vnd.google.colaboratory.intrinsic+json": {
              "type": "string"
            }
          },
          "metadata": {},
          "execution_count": 29
        }
      ]
    },
    {
      "cell_type": "markdown",
      "source": [
        "# `count(str, start, end)`\n",
        "Returns number of times substring `str` occurs in the given string. If we do not give start index and end index  then searching starts from index 0 and ends at length of the string"
      ],
      "metadata": {
        "id": "7bFpaEP4feIq"
      }
    },
    {
      "cell_type": "code",
      "source": [
        "str1 = 'Hello World! Hello Hello'\n",
        "print(str1.count('Hello',12,25))\n",
        "print(str1.count('Hello'))"
      ],
      "metadata": {
        "colab": {
          "base_uri": "https://localhost:8080/"
        },
        "id": "aTmOVD5tfq25",
        "outputId": "2ad1f191-3f88-42b2-d412-ad2d284d6d3c"
      },
      "execution_count": 30,
      "outputs": [
        {
          "output_type": "stream",
          "name": "stdout",
          "text": [
            "2\n",
            "3\n"
          ]
        }
      ]
    },
    {
      "cell_type": "markdown",
      "source": [
        "# `find(str,start, end)`\n",
        "Returns the first occurrence of index of substring `str` occurring in the given string. If we do not give start and end then searching starts from index 0 and ends at length of the string. If the substring is not present in the given string, then the function returns -1"
      ],
      "metadata": {
        "id": "0dWWXm5Yf1J5"
      }
    },
    {
      "cell_type": "code",
      "source": [
        "str1  = 'Hello World! Hello Hello'\n",
        "print(str1.find('Hello',10,20))\n",
        "print(str1.find('Hello',15,25))\n",
        "print(str1.find('Hello'))\n",
        "print(str1.find('Hee'))"
      ],
      "metadata": {
        "colab": {
          "base_uri": "https://localhost:8080/"
        },
        "id": "zo0KOJHIf9pR",
        "outputId": "a0a978b1-b943-44c8-9720-098ab989896d"
      },
      "execution_count": 31,
      "outputs": [
        {
          "output_type": "stream",
          "name": "stdout",
          "text": [
            "13\n",
            "19\n",
            "0\n",
            "-1\n"
          ]
        }
      ]
    },
    {
      "cell_type": "markdown",
      "source": [
        "# `endswith()`\n",
        "Returns True if the given string ends with the supplied substring otherwise returns False"
      ],
      "metadata": {
        "id": "lQtOFUrWgTQx"
      }
    },
    {
      "cell_type": "code",
      "source": [
        "str1 = 'Hello World!'\n",
        "\n",
        "print(str1.endswith('World!'))\n",
        "print(str1.endswith('!'))\n",
        "print(str1.endswith('lde'))"
      ],
      "metadata": {
        "colab": {
          "base_uri": "https://localhost:8080/"
        },
        "id": "Jiv2smFwgb9v",
        "outputId": "a35a849c-bb11-4b1f-9ddf-bef7c3b6c769"
      },
      "execution_count": 32,
      "outputs": [
        {
          "output_type": "stream",
          "name": "stdout",
          "text": [
            "True\n",
            "True\n",
            "False\n"
          ]
        }
      ]
    },
    {
      "cell_type": "markdown",
      "source": [
        "# `startswith()`\n",
        "Returns True if the given string starts with the supplied substring otherwise returns False"
      ],
      "metadata": {
        "id": "T4LPvo7Jgtn5"
      }
    },
    {
      "cell_type": "code",
      "source": [
        "str1 = 'Hello World!'\n",
        "print(str1.startswith('He'))\n",
        "print(str1.startswith('Hee'))"
      ],
      "metadata": {
        "colab": {
          "base_uri": "https://localhost:8080/"
        },
        "id": "7nXvLtaEg1DL",
        "outputId": "8a723423-b868-45d6-cc19-65d3d51f11cb"
      },
      "execution_count": 33,
      "outputs": [
        {
          "output_type": "stream",
          "name": "stdout",
          "text": [
            "True\n",
            "False\n"
          ]
        }
      ]
    },
    {
      "cell_type": "markdown",
      "source": [
        "# `isalnum()`\n",
        "Returns True if characters of the given string are either alphabets or numeric. If whitespace or special symbols are part of the given string or the string is empty it returns False"
      ],
      "metadata": {
        "id": "pslvVXi1hBFf"
      }
    },
    {
      "cell_type": "code",
      "source": [
        "str1 = 'HelloWorld'\n",
        "str1.isalnum()"
      ],
      "metadata": {
        "colab": {
          "base_uri": "https://localhost:8080/"
        },
        "id": "gUtTUfJZhHVp",
        "outputId": "02638816-1b1d-4139-d10a-e94712db1868"
      },
      "execution_count": 34,
      "outputs": [
        {
          "output_type": "execute_result",
          "data": {
            "text/plain": [
              "True"
            ]
          },
          "metadata": {},
          "execution_count": 34
        }
      ]
    },
    {
      "cell_type": "code",
      "source": [
        "str1 = 'HelloWorld2'\n",
        "str1.isalnum()"
      ],
      "metadata": {
        "colab": {
          "base_uri": "https://localhost:8080/"
        },
        "id": "rRZjrhlAhLa7",
        "outputId": "7f85bb38-7c18-47d2-8738-9334e5ef08d1"
      },
      "execution_count": 35,
      "outputs": [
        {
          "output_type": "execute_result",
          "data": {
            "text/plain": [
              "True"
            ]
          },
          "metadata": {},
          "execution_count": 35
        }
      ]
    },
    {
      "cell_type": "code",
      "source": [
        "str1 = 'HelloWorld!!'\n",
        "str1.isalnum()"
      ],
      "metadata": {
        "colab": {
          "base_uri": "https://localhost:8080/"
        },
        "id": "7msIy1cphQKO",
        "outputId": "ecafc282-ac2a-4e44-a4d0-71af7a25b0a2"
      },
      "execution_count": 36,
      "outputs": [
        {
          "output_type": "execute_result",
          "data": {
            "text/plain": [
              "False"
            ]
          },
          "metadata": {},
          "execution_count": 36
        }
      ]
    },
    {
      "cell_type": "markdown",
      "source": [
        "# `islower()`\n",
        "Returns True if the string is non-empty and has all lowercase alphabets, or has at least one character as lowercase alphabet and rest are non-alphabet characters"
      ],
      "metadata": {
        "id": "ozVmedNWhWG5"
      }
    },
    {
      "cell_type": "code",
      "source": [
        "str1 = 'hello world!'\n",
        "str1.islower()"
      ],
      "metadata": {
        "colab": {
          "base_uri": "https://localhost:8080/"
        },
        "id": "e2VUwGPVhcvP",
        "outputId": "686c715a-5e61-4b8e-8762-639b0cf43793"
      },
      "execution_count": 37,
      "outputs": [
        {
          "output_type": "execute_result",
          "data": {
            "text/plain": [
              "True"
            ]
          },
          "metadata": {},
          "execution_count": 37
        }
      ]
    },
    {
      "cell_type": "code",
      "source": [
        "str1 = 'hello 1234'\n",
        "str1.islower()"
      ],
      "metadata": {
        "colab": {
          "base_uri": "https://localhost:8080/"
        },
        "id": "dCFuV4HIhgpu",
        "outputId": "fbd0e758-2d38-410e-9e3d-2679eb34d1ea"
      },
      "execution_count": 38,
      "outputs": [
        {
          "output_type": "execute_result",
          "data": {
            "text/plain": [
              "True"
            ]
          },
          "metadata": {},
          "execution_count": 38
        }
      ]
    },
    {
      "cell_type": "code",
      "source": [
        "str1 = 'hello ??'\n",
        "str1.islower()"
      ],
      "metadata": {
        "colab": {
          "base_uri": "https://localhost:8080/"
        },
        "id": "7c9R5L-thkzm",
        "outputId": "47767132-6b2d-4c7c-df6f-7ab37ea14897"
      },
      "execution_count": 39,
      "outputs": [
        {
          "output_type": "execute_result",
          "data": {
            "text/plain": [
              "True"
            ]
          },
          "metadata": {},
          "execution_count": 39
        }
      ]
    },
    {
      "cell_type": "code",
      "source": [
        "str1 = '1234'\n",
        "str1.islower()"
      ],
      "metadata": {
        "colab": {
          "base_uri": "https://localhost:8080/"
        },
        "id": "Xh9n92dYhrQ9",
        "outputId": "1340f7e5-8aad-4583-e0c6-155452ac0af8"
      },
      "execution_count": 40,
      "outputs": [
        {
          "output_type": "execute_result",
          "data": {
            "text/plain": [
              "False"
            ]
          },
          "metadata": {},
          "execution_count": 40
        }
      ]
    },
    {
      "cell_type": "code",
      "source": [
        "str1 = 'Hello World!'\n",
        "str1.islower()"
      ],
      "metadata": {
        "colab": {
          "base_uri": "https://localhost:8080/"
        },
        "id": "SJdgz-WWhy2O",
        "outputId": "38f3f971-07c7-497f-972c-29ecbab2f10b"
      },
      "execution_count": 41,
      "outputs": [
        {
          "output_type": "execute_result",
          "data": {
            "text/plain": [
              "False"
            ]
          },
          "metadata": {},
          "execution_count": 41
        }
      ]
    },
    {
      "cell_type": "markdown",
      "source": [
        "# `isupper()`\n",
        "Returns True if the string is non-empty and has all uppercase alphabets, or has at least one character as uppercase character and rest are non-alphabet characters"
      ],
      "metadata": {
        "id": "2LR6_IWSiAV8"
      }
    },
    {
      "cell_type": "code",
      "source": [
        "str1 = 'HELLO WORLD!'\n",
        "str1.isupper()"
      ],
      "metadata": {
        "colab": {
          "base_uri": "https://localhost:8080/"
        },
        "id": "7gTVr6FqiGib",
        "outputId": "ad22d3a8-3266-4049-ff81-ccdb477c2044"
      },
      "execution_count": 42,
      "outputs": [
        {
          "output_type": "execute_result",
          "data": {
            "text/plain": [
              "True"
            ]
          },
          "metadata": {},
          "execution_count": 42
        }
      ]
    },
    {
      "cell_type": "code",
      "source": [
        "str1 = 'HELLO 1234'\n",
        "str1.isupper()"
      ],
      "metadata": {
        "colab": {
          "base_uri": "https://localhost:8080/"
        },
        "id": "qRxnPDyNiLB3",
        "outputId": "010fdf4c-049a-4acb-cb72-4d4638ab7054"
      },
      "execution_count": 43,
      "outputs": [
        {
          "output_type": "execute_result",
          "data": {
            "text/plain": [
              "True"
            ]
          },
          "metadata": {},
          "execution_count": 43
        }
      ]
    },
    {
      "cell_type": "code",
      "source": [
        "str1 = 'HELLO ??'\n",
        "str1.isupper()"
      ],
      "metadata": {
        "colab": {
          "base_uri": "https://localhost:8080/"
        },
        "id": "GJjHnIgliR0Q",
        "outputId": "2aeb5f90-f167-4402-9358-243e68cd24d9"
      },
      "execution_count": 44,
      "outputs": [
        {
          "output_type": "execute_result",
          "data": {
            "text/plain": [
              "True"
            ]
          },
          "metadata": {},
          "execution_count": 44
        }
      ]
    },
    {
      "cell_type": "code",
      "source": [
        "str1 = '1234'\n",
        "str1.isupper()"
      ],
      "metadata": {
        "colab": {
          "base_uri": "https://localhost:8080/"
        },
        "id": "s_RRPj0biWDk",
        "outputId": "ae8d1234-5198-4010-b486-019d0c04196e"
      },
      "execution_count": 45,
      "outputs": [
        {
          "output_type": "execute_result",
          "data": {
            "text/plain": [
              "False"
            ]
          },
          "metadata": {},
          "execution_count": 45
        }
      ]
    },
    {
      "cell_type": "code",
      "source": [
        "str1 = 'Hello World!'\n",
        "str1.isupper()"
      ],
      "metadata": {
        "colab": {
          "base_uri": "https://localhost:8080/"
        },
        "id": "yQgryv3XikRm",
        "outputId": "031a6edb-ad9f-4840-e05e-4867c9b8bbf3"
      },
      "execution_count": 46,
      "outputs": [
        {
          "output_type": "execute_result",
          "data": {
            "text/plain": [
              "False"
            ]
          },
          "metadata": {},
          "execution_count": 46
        }
      ]
    },
    {
      "cell_type": "markdown",
      "source": [
        "# `isspace()`\n",
        "Returns True if the string is non-empty and all characters are white spaces (blank, tab, newline, carriage return)"
      ],
      "metadata": {
        "id": "1V_w0i02i4A_"
      }
    },
    {
      "cell_type": "code",
      "source": [
        "str1 = '     \\n   \\t \\r'\n",
        "str1.isspace()"
      ],
      "metadata": {
        "colab": {
          "base_uri": "https://localhost:8080/"
        },
        "id": "V2eDEXQjjAFb",
        "outputId": "5abc334c-4547-46c7-e281-a8d69ad02c1c"
      },
      "execution_count": 47,
      "outputs": [
        {
          "output_type": "execute_result",
          "data": {
            "text/plain": [
              "True"
            ]
          },
          "metadata": {},
          "execution_count": 47
        }
      ]
    },
    {
      "cell_type": "code",
      "source": [
        "str1 = 'Hello        \\n'\n",
        "str1.isspace()"
      ],
      "metadata": {
        "colab": {
          "base_uri": "https://localhost:8080/"
        },
        "id": "czJggR7YjE5r",
        "outputId": "ac07b8f2-76c7-44fe-96c5-1f2c2718cced"
      },
      "execution_count": 48,
      "outputs": [
        {
          "output_type": "execute_result",
          "data": {
            "text/plain": [
              "False"
            ]
          },
          "metadata": {},
          "execution_count": 48
        }
      ]
    },
    {
      "cell_type": "markdown",
      "source": [
        "# `istitle()`\n",
        "Returns True if the string is non-empty and title case, i.e., the first letter of every word in the string in uppercase and rest in lowercase"
      ],
      "metadata": {
        "id": "_Kt__sWCjJh2"
      }
    },
    {
      "cell_type": "code",
      "source": [
        "str1 = 'Hello World!'\n",
        "str1.istitle()"
      ],
      "metadata": {
        "colab": {
          "base_uri": "https://localhost:8080/"
        },
        "id": "E_ia1fmvjQ7M",
        "outputId": "ce4a62a6-e8e5-450a-8615-44bb9a95c510"
      },
      "execution_count": 49,
      "outputs": [
        {
          "output_type": "execute_result",
          "data": {
            "text/plain": [
              "True"
            ]
          },
          "metadata": {},
          "execution_count": 49
        }
      ]
    },
    {
      "cell_type": "code",
      "source": [
        "str1 = 'hello World!'\n",
        "str1.istitle()"
      ],
      "metadata": {
        "colab": {
          "base_uri": "https://localhost:8080/"
        },
        "id": "fc3c1EHyjVZ9",
        "outputId": "c558e4fe-5596-405e-9f31-7a0107d29c8f"
      },
      "execution_count": 50,
      "outputs": [
        {
          "output_type": "execute_result",
          "data": {
            "text/plain": [
              "False"
            ]
          },
          "metadata": {},
          "execution_count": 50
        }
      ]
    },
    {
      "cell_type": "markdown",
      "source": [
        "# `lstrip()`\n",
        "Returns the string after removing the spaces only on the left of the string"
      ],
      "metadata": {
        "id": "IoYohc7NjcF-"
      }
    },
    {
      "cell_type": "code",
      "source": [
        "str1 = '        Hello World!    '\n",
        "str1.lstrip()"
      ],
      "metadata": {
        "colab": {
          "base_uri": "https://localhost:8080/",
          "height": 35
        },
        "id": "B-2B9yyYjitY",
        "outputId": "a40f5af2-03cf-4de8-ee8e-9c951ec3e33e"
      },
      "execution_count": 51,
      "outputs": [
        {
          "output_type": "execute_result",
          "data": {
            "text/plain": [
              "'Hello World!    '"
            ],
            "application/vnd.google.colaboratory.intrinsic+json": {
              "type": "string"
            }
          },
          "metadata": {},
          "execution_count": 51
        }
      ]
    },
    {
      "cell_type": "markdown",
      "source": [
        "# `rstrip()`\n",
        "Returns the string after removing the spaces only on the right of the string"
      ],
      "metadata": {
        "id": "HG-jfqQ4jw3M"
      }
    },
    {
      "cell_type": "code",
      "source": [
        "str1 = '       Hello World!'\n",
        "str1.rstrip()"
      ],
      "metadata": {
        "colab": {
          "base_uri": "https://localhost:8080/",
          "height": 35
        },
        "id": "HNIEMxInj4Qf",
        "outputId": "4d9eadc2-13e5-4b57-8f1a-98545f5937b2"
      },
      "execution_count": 52,
      "outputs": [
        {
          "output_type": "execute_result",
          "data": {
            "text/plain": [
              "'       Hello World!'"
            ],
            "application/vnd.google.colaboratory.intrinsic+json": {
              "type": "string"
            }
          },
          "metadata": {},
          "execution_count": 52
        }
      ]
    },
    {
      "cell_type": "markdown",
      "source": [
        "# `strip()`\n",
        "Returns the string after removing the spaces both on the left and the right of the string"
      ],
      "metadata": {
        "id": "wo9rUh3bj-t6"
      }
    },
    {
      "cell_type": "code",
      "source": [
        "str1 = '        Hello World!    '\n",
        "str1.strip()"
      ],
      "metadata": {
        "colab": {
          "base_uri": "https://localhost:8080/",
          "height": 35
        },
        "id": "YqEh7KoxkFoZ",
        "outputId": "fba6a368-f0a2-400d-bf4a-d7e7352e4bc6"
      },
      "execution_count": 53,
      "outputs": [
        {
          "output_type": "execute_result",
          "data": {
            "text/plain": [
              "'Hello World!'"
            ],
            "application/vnd.google.colaboratory.intrinsic+json": {
              "type": "string"
            }
          },
          "metadata": {},
          "execution_count": 53
        }
      ]
    },
    {
      "cell_type": "markdown",
      "source": [
        "# `replace(oldstr, newstr)`\n",
        "Replaces all occurrences of old string with the new string"
      ],
      "metadata": {
        "id": "tHZnah06kRQ-"
      }
    },
    {
      "cell_type": "code",
      "source": [
        "str1 = 'Hello World!'\n",
        "str1.replace('o','*')"
      ],
      "metadata": {
        "colab": {
          "base_uri": "https://localhost:8080/",
          "height": 35
        },
        "id": "LbQe40hMki0h",
        "outputId": "dfcfdc94-22e0-4fc2-c1e1-266e4c3e4dd6"
      },
      "execution_count": 54,
      "outputs": [
        {
          "output_type": "execute_result",
          "data": {
            "text/plain": [
              "'Hell* W*rld!'"
            ],
            "application/vnd.google.colaboratory.intrinsic+json": {
              "type": "string"
            }
          },
          "metadata": {},
          "execution_count": 54
        }
      ]
    },
    {
      "cell_type": "code",
      "source": [
        "str1 = 'Hello World!'\n",
        "str1.replace('World','Country')"
      ],
      "metadata": {
        "colab": {
          "base_uri": "https://localhost:8080/",
          "height": 35
        },
        "id": "ZkMxAl27koO-",
        "outputId": "2c8fc342-9bc9-4908-9d46-f52d4ca14868"
      },
      "execution_count": 55,
      "outputs": [
        {
          "output_type": "execute_result",
          "data": {
            "text/plain": [
              "'Hello Country!'"
            ],
            "application/vnd.google.colaboratory.intrinsic+json": {
              "type": "string"
            }
          },
          "metadata": {},
          "execution_count": 55
        }
      ]
    },
    {
      "cell_type": "code",
      "source": [
        "str1 = 'Hello World! Hello'\n",
        "str1.replace('Hello','Bye')"
      ],
      "metadata": {
        "colab": {
          "base_uri": "https://localhost:8080/",
          "height": 35
        },
        "id": "IqULIIHGktrm",
        "outputId": "22dc9323-866e-488c-fafe-29be7d4baf80"
      },
      "execution_count": 56,
      "outputs": [
        {
          "output_type": "execute_result",
          "data": {
            "text/plain": [
              "'Bye World! Bye'"
            ],
            "application/vnd.google.colaboratory.intrinsic+json": {
              "type": "string"
            }
          },
          "metadata": {},
          "execution_count": 56
        }
      ]
    },
    {
      "cell_type": "markdown",
      "source": [
        "# `partition()`\n",
        "Partitions the given string at the first occurrence of the substring (separator) and returns the string partitioned into three parts. \n",
        "1. Substring before the separator \n",
        "2. Separator \n",
        "3. Substring after the separator If the separator is not found in the string, it returns the whole string itself and two empty strings"
      ],
      "metadata": {
        "id": "7Fprrmj_k5DD"
      }
    },
    {
      "cell_type": "code",
      "source": [
        "str1 = 'India is a Great Country'\n",
        "str1.partition('is')"
      ],
      "metadata": {
        "colab": {
          "base_uri": "https://localhost:8080/"
        },
        "id": "CCqESY2ClJzv",
        "outputId": "876b7c06-5c1b-40df-b06e-88727d61b57b"
      },
      "execution_count": 57,
      "outputs": [
        {
          "output_type": "execute_result",
          "data": {
            "text/plain": [
              "('India ', 'is', ' a Great Country')"
            ]
          },
          "metadata": {},
          "execution_count": 57
        }
      ]
    },
    {
      "cell_type": "code",
      "source": [
        "str1 = 'India is a Great Country'\n",
        "str1.partition('are')"
      ],
      "metadata": {
        "colab": {
          "base_uri": "https://localhost:8080/"
        },
        "id": "ryI_D01xlQix",
        "outputId": "28025780-b099-47e4-eefe-1dd26ec4fffb"
      },
      "execution_count": 58,
      "outputs": [
        {
          "output_type": "execute_result",
          "data": {
            "text/plain": [
              "('India is a Great Country', '', '')"
            ]
          },
          "metadata": {},
          "execution_count": 58
        }
      ]
    },
    {
      "cell_type": "markdown",
      "source": [
        "# `split()`\n",
        "Returns a list of words delimited by the specified substring. If no delimiter is given then words are separated by space."
      ],
      "metadata": {
        "id": "agcoho_9lXZP"
      }
    },
    {
      "cell_type": "code",
      "source": [
        "str1 = 'India is a Great Country'\n",
        "str1.split()"
      ],
      "metadata": {
        "colab": {
          "base_uri": "https://localhost:8080/"
        },
        "id": "Qb9uSw2hlgO2",
        "outputId": "e0028e83-2f3c-4295-ad6e-c4e7093dc8b1"
      },
      "execution_count": 59,
      "outputs": [
        {
          "output_type": "execute_result",
          "data": {
            "text/plain": [
              "['India', 'is', 'a', 'Great', 'Country']"
            ]
          },
          "metadata": {},
          "execution_count": 59
        }
      ]
    },
    {
      "cell_type": "code",
      "source": [
        "str1 = 'India is a Great Country'\n",
        "str1.split('a')"
      ],
      "metadata": {
        "colab": {
          "base_uri": "https://localhost:8080/"
        },
        "id": "vWgNA7cClnpH",
        "outputId": "3cde2798-27d6-4459-dcfb-ff04f7650a4a"
      },
      "execution_count": 60,
      "outputs": [
        {
          "output_type": "execute_result",
          "data": {
            "text/plain": [
              "['Indi', ' is ', ' Gre', 't Country']"
            ]
          },
          "metadata": {},
          "execution_count": 60
        }
      ]
    },
    {
      "cell_type": "markdown",
      "source": [
        "# Handling Strings"
      ],
      "metadata": {
        "id": "zS-8-r8golM7"
      }
    },
    {
      "cell_type": "markdown",
      "source": [
        "# Program 8-1: Write a program with a user defined function to count the number of times a character (passed as argument) occurs in the given string."
      ],
      "metadata": {
        "id": "Tiy_uy7FoqZl"
      }
    },
    {
      "cell_type": "code",
      "source": [
        "#Function to count the number of times a character occurs in a\n",
        "\n",
        "#string\n",
        "def charCount(ch,st):\n",
        "  count = 0\n",
        "  for character in st:\n",
        "    if character == ch:\n",
        "      count += 1\n",
        "  return count \n",
        "#end of function\n",
        "\n",
        "st = input(\"Enter a string: \")\n",
        "ch = input(\"Enter the character to be searched: \")\n",
        "count = charCount(ch,st)\n",
        "print(\"Number of times character\",ch,\"occurs in the string is:\",count)"
      ],
      "metadata": {
        "colab": {
          "base_uri": "https://localhost:8080/"
        },
        "id": "cCjj2jolpAqM",
        "outputId": "d201faf1-9959-4b36-e900-9c7410b7f06e"
      },
      "execution_count": 61,
      "outputs": [
        {
          "output_type": "stream",
          "name": "stdout",
          "text": [
            "Enter a string: Notebook Author: Dhananjay M.R\n",
            "Enter the character to be searched: a\n",
            "Number of times character a occurs in the string is: 3\n"
          ]
        }
      ]
    },
    {
      "cell_type": "markdown",
      "source": [
        "# Program 8-2 Write a program with a user defined function with string as a parameter which replaces all vowels in the string with '*'."
      ],
      "metadata": {
        "id": "w6T259c_6tOz"
      }
    },
    {
      "cell_type": "code",
      "source": [
        "#Program 8-2 \n",
        "#Function to replace all vowels in the string with  '*' \n",
        "\n",
        "def replaceVowel(st):    \n",
        "\n",
        "#create an empty string\n",
        "\n",
        "  newstr = ''\n",
        "  for character in st:     \n",
        "    #check if next character is a vowel\n",
        "    if character in 'aeiouAEIOU':     \n",
        "      #Replace vowel with *\n",
        "      newstr += '*'\n",
        "    else:\n",
        "      newstr += character     \n",
        "  return newstr \n",
        "#end of function \n",
        "\n",
        "st = input(\"Enter a String: \") \n",
        "st1 = replaceVowel(st)\n",
        "print(\"The original String is:\",st)\n",
        "print(\"The modified String is:\",st1)"
      ],
      "metadata": {
        "colab": {
          "base_uri": "https://localhost:8080/"
        },
        "id": "dEuCVxKL6203",
        "outputId": "10727924-6008-41c9-f756-7e6a6d74f761"
      },
      "execution_count": 62,
      "outputs": [
        {
          "output_type": "stream",
          "name": "stdout",
          "text": [
            "Enter a String: Python Strings\n",
            "The original String is: Python Strings\n",
            "The modified String is: Pyth*n Str*ngs\n"
          ]
        }
      ]
    },
    {
      "cell_type": "markdown",
      "source": [
        "# Program 8-3 Write a program to input a string from the user and print it in the reverse order without creating a new string."
      ],
      "metadata": {
        "id": "2SY9LH3p7oOB"
      }
    },
    {
      "cell_type": "code",
      "source": [
        "#Program 8-3 \n",
        "#Program to display string in reverse order\n",
        "\n",
        "st = input(\"Enter a string: \")\n",
        "for i in range(-1,-len(st)-1,-1):\n",
        "  print(st[i],end='')"
      ],
      "metadata": {
        "colab": {
          "base_uri": "https://localhost:8080/"
        },
        "id": "DPdEYYE77tCg",
        "outputId": "faac8c86-1105-41ca-859e-8c7ae3dba754"
      },
      "execution_count": 63,
      "outputs": [
        {
          "output_type": "stream",
          "name": "stdout",
          "text": [
            "Enter a string: Python\n",
            "nohtyP"
          ]
        }
      ]
    },
    {
      "cell_type": "markdown",
      "source": [
        "# Program 8-4 Write a program which reverses a string passed as parameter and stores the reversed string in a new string. Use a user defined function for reversing the string."
      ],
      "metadata": {
        "id": "rNaJjcuk79Q1"
      }
    },
    {
      "cell_type": "code",
      "source": [
        "#Program 8-4\n",
        "#Function to reverse a string\n",
        "\n",
        "def reverseString(st):\n",
        "  newstr = ''        #create a new string\n",
        "  length = len(st)\n",
        "  for i in range(-1,-length-1,-1):\n",
        "    newstr += st[i]\n",
        "  return newstr\n",
        "#end of function\n",
        "\n",
        "st = input(\"Enter a String: \")\n",
        "st1 = reverseString(st)\n",
        "print(\"The original String is:\",st)\n",
        "print(\"The reversed String is:\",st1)"
      ],
      "metadata": {
        "colab": {
          "base_uri": "https://localhost:8080/"
        },
        "id": "apNAgue38EBD",
        "outputId": "0eea7cb8-2630-4511-a3b8-42524cf0d751"
      },
      "execution_count": 64,
      "outputs": [
        {
          "output_type": "stream",
          "name": "stdout",
          "text": [
            "Enter a String: Strings\n",
            "The original String is: Strings\n",
            "The reversed String is: sgnirtS\n"
          ]
        }
      ]
    },
    {
      "cell_type": "markdown",
      "source": [
        "# Summary\n",
        "1. A string is a sequence of characters enclosed in single, double or triple quotes. \n",
        "2. Indexing is used for accessing individual characters within a string. \n",
        "3. The first character has the index 0 and the last character has the index n-1 where n is the length of the string. The negative indexing ranges from -n to -1. \n",
        "4. Strings in Python are immutable, i.e., a string cannot be changed after it is created. \n",
        "5. Membership operator in takes two strings and returns True if the first string appears as a substring in the second else returns False. Membership operator ‘not in’ does the reverse. \n",
        "6. Retrieving a portion of a string is called slicing. This can be done by specifying an index range. The slice operation str1[n:m] returns the part of the string str1 starting from index n (inclusive) and ending at m (exclusive). \n",
        "7. Each character of a string can be accessed either using a for loop or while loop. \n",
        "8. There are many built-in functions for working with strings in Python.\n",
        "\n",
        "For further more programs on strings, kindly refer the file whose link is shared below: \n",
        "\n",
        "https://colab.research.google.com/drive/1irVdWdq_3ZA8bMlRS4IYTPZSpOxre9G4?usp=sharing"
      ],
      "metadata": {
        "id": "A_MLiroW8iYL"
      }
    }
  ]
}